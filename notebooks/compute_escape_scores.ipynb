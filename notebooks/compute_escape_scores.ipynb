{
 "cells": [
  {
   "cell_type": "markdown",
   "id": "5849ba72",
   "metadata": {},
   "source": [
    "# Compute escape scores"
   ]
  },
  {
   "cell_type": "markdown",
   "id": "41a33d61",
   "metadata": {},
   "source": [
    "TODO:\n",
    "* data from escape calculator\n",
    "    * simple: wget\n",
    "    * complex: submodule\n",
    "* ncov build\n",
    "    * alignment and metadata\n",
    "* turn into snakemake workflow?"
   ]
  },
  {
   "cell_type": "code",
   "execution_count": 2,
   "id": "ca6fcca4",
   "metadata": {},
   "outputs": [],
   "source": [
    "import os\n",
    "import sys\n",
    "import glob\n",
    "import pandas as pd\n",
    "from collections import defaultdict\n",
    "\n",
    "import matplotlib\n",
    "import matplotlib.pyplot as plt\n",
    "%matplotlib inline\n",
    "import seaborn as sns"
   ]
  },
  {
   "cell_type": "markdown",
   "id": "4bf82963",
   "metadata": {},
   "source": [
    "Read in site-level escape values and other metadata from Jesse's escape calculator"
   ]
  },
  {
   "cell_type": "code",
   "execution_count": 3,
   "id": "ea07007f",
   "metadata": {},
   "outputs": [],
   "source": [
    "# Read in site-level escape scores\n",
    "escape_calc_resultsdir = '/fh/fast/matsen_e/hhaddox/2023/SARS2-RBD-escape-calc/results'\n",
    "site_escape_df = pd.read_csv(os.path.join(escape_calc_resultsdir, 'escape.csv'))\n",
    "\n",
    "# Read in dataframe specifying which studies the\n",
    "# antibodies came from\n",
    "ab_source_df = pd.read_csv(os.path.join(escape_calc_resultsdir, 'antibody_sources.csv'))\n",
    "\n",
    "# Make a list of antibodies from the imprinted_2022 study\n",
    "# to analyze below\n",
    "imprinted_2022_abs = ab_source_df[\n",
    "    ab_source_df['study'] == 'imprinted_2022'\n",
    "]['antibody'].unique()"
   ]
  },
  {
   "cell_type": "code",
   "execution_count": 4,
   "id": "120358ce",
   "metadata": {},
   "outputs": [
    {
     "data": {
      "text/html": [
       "<div>\n",
       "<style scoped>\n",
       "    .dataframe tbody tr th:only-of-type {\n",
       "        vertical-align: middle;\n",
       "    }\n",
       "\n",
       "    .dataframe tbody tr th {\n",
       "        vertical-align: top;\n",
       "    }\n",
       "\n",
       "    .dataframe thead th {\n",
       "        text-align: right;\n",
       "    }\n",
       "</style>\n",
       "<table border=\"1\" class=\"dataframe\">\n",
       "  <thead>\n",
       "    <tr style=\"text-align: right;\">\n",
       "      <th></th>\n",
       "      <th>antibody</th>\n",
       "      <th>site</th>\n",
       "      <th>escape</th>\n",
       "    </tr>\n",
       "  </thead>\n",
       "  <tbody>\n",
       "    <tr>\n",
       "      <th>0</th>\n",
       "      <td>BD30-604</td>\n",
       "      <td>335</td>\n",
       "      <td>0.04938</td>\n",
       "    </tr>\n",
       "    <tr>\n",
       "      <th>1</th>\n",
       "      <td>BD30-604</td>\n",
       "      <td>340</td>\n",
       "      <td>0.05132</td>\n",
       "    </tr>\n",
       "    <tr>\n",
       "      <th>2</th>\n",
       "      <td>BD30-604</td>\n",
       "      <td>346</td>\n",
       "      <td>0.03290</td>\n",
       "    </tr>\n",
       "    <tr>\n",
       "      <th>3</th>\n",
       "      <td>BD30-604</td>\n",
       "      <td>365</td>\n",
       "      <td>0.07295</td>\n",
       "    </tr>\n",
       "    <tr>\n",
       "      <th>4</th>\n",
       "      <td>BD30-604</td>\n",
       "      <td>370</td>\n",
       "      <td>0.03994</td>\n",
       "    </tr>\n",
       "  </tbody>\n",
       "</table>\n",
       "</div>"
      ],
      "text/plain": [
       "   antibody  site   escape\n",
       "0  BD30-604   335  0.04938\n",
       "1  BD30-604   340  0.05132\n",
       "2  BD30-604   346  0.03290\n",
       "3  BD30-604   365  0.07295\n",
       "4  BD30-604   370  0.03994"
      ]
     },
     "execution_count": 4,
     "metadata": {},
     "output_type": "execute_result"
    }
   ],
   "source": [
    "site_escape_df.head()"
   ]
  },
  {
   "cell_type": "code",
   "execution_count": null,
   "id": "f5876259",
   "metadata": {},
   "outputs": [],
   "source": []
  },
  {
   "cell_type": "markdown",
   "id": "6bd51172",
   "metadata": {},
   "source": [
    "Make a dataframe with site-specific amino-acid escape values, where each entry at each site is the site value from above. This dataframe is input for `dmsa-pred` below."
   ]
  },
  {
   "cell_type": "code",
   "execution_count": 16,
   "id": "59fbc568",
   "metadata": {},
   "outputs": [
    {
     "data": {
      "text/html": [
       "<div>\n",
       "<style scoped>\n",
       "    .dataframe tbody tr th:only-of-type {\n",
       "        vertical-align: middle;\n",
       "    }\n",
       "\n",
       "    .dataframe tbody tr th {\n",
       "        vertical-align: top;\n",
       "    }\n",
       "\n",
       "    .dataframe thead th {\n",
       "        text-align: right;\n",
       "    }\n",
       "</style>\n",
       "<table border=\"1\" class=\"dataframe\">\n",
       "  <thead>\n",
       "    <tr style=\"text-align: right;\">\n",
       "      <th></th>\n",
       "      <th>site</th>\n",
       "      <th>aa_sub</th>\n",
       "      <th>antibody</th>\n",
       "      <th>escape</th>\n",
       "    </tr>\n",
       "  </thead>\n",
       "  <tbody>\n",
       "    <tr>\n",
       "      <th>0</th>\n",
       "      <td>331</td>\n",
       "      <td>N331A</td>\n",
       "      <td>BD55-5514</td>\n",
       "      <td>0.02983</td>\n",
       "    </tr>\n",
       "    <tr>\n",
       "      <th>1</th>\n",
       "      <td>331</td>\n",
       "      <td>N331A</td>\n",
       "      <td>CP0497</td>\n",
       "      <td>0.08276</td>\n",
       "    </tr>\n",
       "    <tr>\n",
       "      <th>2</th>\n",
       "      <td>331</td>\n",
       "      <td>N331A</td>\n",
       "      <td>BD57-0125</td>\n",
       "      <td>0.02136</td>\n",
       "    </tr>\n",
       "    <tr>\n",
       "      <th>3</th>\n",
       "      <td>331</td>\n",
       "      <td>N331A</td>\n",
       "      <td>BD57-0143</td>\n",
       "      <td>0.02517</td>\n",
       "    </tr>\n",
       "    <tr>\n",
       "      <th>4</th>\n",
       "      <td>331</td>\n",
       "      <td>N331A</td>\n",
       "      <td>BD57-0146</td>\n",
       "      <td>0.08997</td>\n",
       "    </tr>\n",
       "  </tbody>\n",
       "</table>\n",
       "</div>"
      ],
      "text/plain": [
       "   site aa_sub   antibody   escape\n",
       "0   331  N331A  BD55-5514  0.02983\n",
       "1   331  N331A     CP0497  0.08276\n",
       "2   331  N331A  BD57-0125  0.02136\n",
       "3   331  N331A  BD57-0143  0.02517\n",
       "4   331  N331A  BD57-0146  0.08997"
      ]
     },
     "execution_count": 16,
     "metadata": {},
     "output_type": "execute_result"
    }
   ],
   "source": [
    "aa_escape_dict = defaultdict(list)\n",
    "sites = list(set(site_escape_df['site']))\n",
    "amino_acids = 'ACDEFGHIKLMNPQRSTVWY'\n",
    "for (i, row) in site_df.iterrows():\n",
    "    site = int(row.site)\n",
    "    wt = str(row.wildtype)\n",
    "    for mut in amino_acids:\n",
    "        if wt == mut:\n",
    "            continue\n",
    "        aa_escape_dict['site'].append(site)\n",
    "        aa_escape_dict['aa_sub'].append(f'{wt}{site}{mut}')\n",
    "\n",
    "aa_escape_df = pd.DataFrame(aa_escape_dict)\n",
    "aa_escape_df = aa_escape_df.merge(site_escape_df, on='site')\n",
    "aa_escape_df.head()"
   ]
  },
  {
   "cell_type": "code",
   "execution_count": 17,
   "id": "9d8453ad",
   "metadata": {},
   "outputs": [
    {
     "data": {
      "text/html": [
       "<div>\n",
       "<style scoped>\n",
       "    .dataframe tbody tr th:only-of-type {\n",
       "        vertical-align: middle;\n",
       "    }\n",
       "\n",
       "    .dataframe tbody tr th {\n",
       "        vertical-align: top;\n",
       "    }\n",
       "\n",
       "    .dataframe thead th {\n",
       "        text-align: right;\n",
       "    }\n",
       "</style>\n",
       "<table border=\"1\" class=\"dataframe\">\n",
       "  <thead>\n",
       "    <tr style=\"text-align: right;\">\n",
       "      <th></th>\n",
       "      <th>site</th>\n",
       "      <th>aa_sub</th>\n",
       "      <th>antibody</th>\n",
       "      <th>escape</th>\n",
       "    </tr>\n",
       "  </thead>\n",
       "  <tbody>\n",
       "    <tr>\n",
       "      <th>64106</th>\n",
       "      <td>338</td>\n",
       "      <td>F338A</td>\n",
       "      <td>1-57</td>\n",
       "      <td>0.06084</td>\n",
       "    </tr>\n",
       "    <tr>\n",
       "      <th>64147</th>\n",
       "      <td>338</td>\n",
       "      <td>F338C</td>\n",
       "      <td>1-57</td>\n",
       "      <td>0.06084</td>\n",
       "    </tr>\n",
       "    <tr>\n",
       "      <th>64188</th>\n",
       "      <td>338</td>\n",
       "      <td>F338D</td>\n",
       "      <td>1-57</td>\n",
       "      <td>0.06084</td>\n",
       "    </tr>\n",
       "    <tr>\n",
       "      <th>64229</th>\n",
       "      <td>338</td>\n",
       "      <td>F338E</td>\n",
       "      <td>1-57</td>\n",
       "      <td>0.06084</td>\n",
       "    </tr>\n",
       "    <tr>\n",
       "      <th>64270</th>\n",
       "      <td>338</td>\n",
       "      <td>F338G</td>\n",
       "      <td>1-57</td>\n",
       "      <td>0.06084</td>\n",
       "    </tr>\n",
       "    <tr>\n",
       "      <th>...</th>\n",
       "      <td>...</td>\n",
       "      <td>...</td>\n",
       "      <td>...</td>\n",
       "      <td>...</td>\n",
       "    </tr>\n",
       "    <tr>\n",
       "      <th>1972600</th>\n",
       "      <td>518</td>\n",
       "      <td>L518S</td>\n",
       "      <td>1-57</td>\n",
       "      <td>0.06236</td>\n",
       "    </tr>\n",
       "    <tr>\n",
       "      <th>1973088</th>\n",
       "      <td>518</td>\n",
       "      <td>L518T</td>\n",
       "      <td>1-57</td>\n",
       "      <td>0.06236</td>\n",
       "    </tr>\n",
       "    <tr>\n",
       "      <th>1973576</th>\n",
       "      <td>518</td>\n",
       "      <td>L518V</td>\n",
       "      <td>1-57</td>\n",
       "      <td>0.06236</td>\n",
       "    </tr>\n",
       "    <tr>\n",
       "      <th>1974064</th>\n",
       "      <td>518</td>\n",
       "      <td>L518W</td>\n",
       "      <td>1-57</td>\n",
       "      <td>0.06236</td>\n",
       "    </tr>\n",
       "    <tr>\n",
       "      <th>1974552</th>\n",
       "      <td>518</td>\n",
       "      <td>L518Y</td>\n",
       "      <td>1-57</td>\n",
       "      <td>0.06236</td>\n",
       "    </tr>\n",
       "  </tbody>\n",
       "</table>\n",
       "<p>285 rows × 4 columns</p>\n",
       "</div>"
      ],
      "text/plain": [
       "         site aa_sub antibody   escape\n",
       "64106     338  F338A     1-57  0.06084\n",
       "64147     338  F338C     1-57  0.06084\n",
       "64188     338  F338D     1-57  0.06084\n",
       "64229     338  F338E     1-57  0.06084\n",
       "64270     338  F338G     1-57  0.06084\n",
       "...       ...    ...      ...      ...\n",
       "1972600   518  L518S     1-57  0.06236\n",
       "1973088   518  L518T     1-57  0.06236\n",
       "1973576   518  L518V     1-57  0.06236\n",
       "1974064   518  L518W     1-57  0.06236\n",
       "1974552   518  L518Y     1-57  0.06236\n",
       "\n",
       "[285 rows x 4 columns]"
      ]
     },
     "execution_count": 17,
     "metadata": {},
     "output_type": "execute_result"
    }
   ],
   "source": [
    "aa_escape_df[aa_escape_df['antibody'] == imprinted_2022_abs[0]]"
   ]
  },
  {
   "cell_type": "code",
   "execution_count": 18,
   "id": "573fe709",
   "metadata": {},
   "outputs": [
    {
     "data": {
      "text/html": [
       "<div>\n",
       "<style scoped>\n",
       "    .dataframe tbody tr th:only-of-type {\n",
       "        vertical-align: middle;\n",
       "    }\n",
       "\n",
       "    .dataframe tbody tr th {\n",
       "        vertical-align: top;\n",
       "    }\n",
       "\n",
       "    .dataframe thead th {\n",
       "        text-align: right;\n",
       "    }\n",
       "</style>\n",
       "<table border=\"1\" class=\"dataframe\">\n",
       "  <thead>\n",
       "    <tr style=\"text-align: right;\">\n",
       "      <th></th>\n",
       "      <th>site</th>\n",
       "      <th>aa_sub</th>\n",
       "      <th>escape</th>\n",
       "    </tr>\n",
       "    <tr>\n",
       "      <th>antibody</th>\n",
       "      <th></th>\n",
       "      <th></th>\n",
       "      <th></th>\n",
       "    </tr>\n",
       "  </thead>\n",
       "  <tbody>\n",
       "    <tr>\n",
       "      <th>1-57</th>\n",
       "      <td>285</td>\n",
       "      <td>285</td>\n",
       "      <td>285</td>\n",
       "    </tr>\n",
       "    <tr>\n",
       "      <th>2-15</th>\n",
       "      <td>304</td>\n",
       "      <td>304</td>\n",
       "      <td>304</td>\n",
       "    </tr>\n",
       "    <tr>\n",
       "      <th>7D6</th>\n",
       "      <td>228</td>\n",
       "      <td>228</td>\n",
       "      <td>228</td>\n",
       "    </tr>\n",
       "    <tr>\n",
       "      <th>ADG-2</th>\n",
       "      <td>190</td>\n",
       "      <td>190</td>\n",
       "      <td>190</td>\n",
       "    </tr>\n",
       "    <tr>\n",
       "      <th>B38</th>\n",
       "      <td>437</td>\n",
       "      <td>437</td>\n",
       "      <td>437</td>\n",
       "    </tr>\n",
       "    <tr>\n",
       "      <th>...</th>\n",
       "      <td>...</td>\n",
       "      <td>...</td>\n",
       "      <td>...</td>\n",
       "    </tr>\n",
       "    <tr>\n",
       "      <th>XGv-416</th>\n",
       "      <td>209</td>\n",
       "      <td>209</td>\n",
       "      <td>209</td>\n",
       "    </tr>\n",
       "    <tr>\n",
       "      <th>XGv-418</th>\n",
       "      <td>380</td>\n",
       "      <td>380</td>\n",
       "      <td>380</td>\n",
       "    </tr>\n",
       "    <tr>\n",
       "      <th>XGv-420</th>\n",
       "      <td>285</td>\n",
       "      <td>285</td>\n",
       "      <td>285</td>\n",
       "    </tr>\n",
       "    <tr>\n",
       "      <th>XGv-421</th>\n",
       "      <td>475</td>\n",
       "      <td>475</td>\n",
       "      <td>475</td>\n",
       "    </tr>\n",
       "    <tr>\n",
       "      <th>XGv-422</th>\n",
       "      <td>247</td>\n",
       "      <td>247</td>\n",
       "      <td>247</td>\n",
       "    </tr>\n",
       "  </tbody>\n",
       "</table>\n",
       "<p>4089 rows × 3 columns</p>\n",
       "</div>"
      ],
      "text/plain": [
       "          site  aa_sub  escape\n",
       "antibody                      \n",
       "1-57       285     285     285\n",
       "2-15       304     304     304\n",
       "7D6        228     228     228\n",
       "ADG-2      190     190     190\n",
       "B38        437     437     437\n",
       "...        ...     ...     ...\n",
       "XGv-416    209     209     209\n",
       "XGv-418    380     380     380\n",
       "XGv-420    285     285     285\n",
       "XGv-421    475     475     475\n",
       "XGv-422    247     247     247\n",
       "\n",
       "[4089 rows x 3 columns]"
      ]
     },
     "execution_count": 18,
     "metadata": {},
     "output_type": "execute_result"
    }
   ],
   "source": [
    "aa_escape_df.groupby('antibody').count()"
   ]
  },
  {
   "cell_type": "markdown",
   "id": "03af1707",
   "metadata": {},
   "source": [
    "Use dmsa-pred to make predictions on the imprinted_2022 data"
   ]
  },
  {
   "cell_type": "code",
   "execution_count": 19,
   "id": "b4408d4e",
   "metadata": {
    "scrolled": true
   },
   "outputs": [],
   "source": [
    "resultsdir = 'results/cao_predictions/imprinted_2022_abs/escaped-clinically-approved-abs/'\n",
    "if not os.path.isdir(resultsdir):\n",
    "    os.makedirs(resultsdir)\n",
    "alignment = 'results/escaped-clinically-approved-abs/translations/aligned.gene.S_withInternalNodes.fasta'\n",
    "dms_wt_seq_id = 'Wuhan-Hu-1/2019'\n",
    "mut_effect_col = 'escape'\n",
    "mutation_col = 'aa_sub'\n",
    "\n",
    "for (i, antibody) in enumerate(imprinted_2022_abs):\n",
    "    \n",
    "    continue\n",
    "\n",
    "    # Write a dataframe with escape data for that antibody\n",
    "    data = aa_escape_df[aa_escape_df['antibody'] == antibody].copy()\n",
    "    mut_effects_df = os.path.join(resultsdir, f'{antibody}_mut_effects.csv')\n",
    "    if os.path.isfile(mut_effects_df):\n",
    "        continue\n",
    "    data.to_csv(mut_effects_df, index=False)\n",
    "    output_json = os.path.join(resultsdir, f'{antibody}_escape_pred.json')\n",
    "    output_df = os.path.join(resultsdir, f'{antibody}_escape_pred.csv')\n",
    "    \n",
    "    # Run dmsa-pred\n",
    "    print(i, antibody)\n",
    "    cmd = ' '.join([\n",
    "        'python',\n",
    "        'my_profiles/dmsa-pred/dmsa_pred.py phenotype-prediction',\n",
    "        '--model-type additive',\n",
    "        f'--alignment {alignment}',\n",
    "        f'--dms-wt-seq-id {dms_wt_seq_id}',\n",
    "        f'--mut-effects-df {mut_effects_df}',\n",
    "        f'--mut-effect-col {mut_effect_col}',\n",
    "        f'--mutation-col {mutation_col}',\n",
    "        '--mask-seqs-with-disallowed-aa-subs False',\n",
    "        f'--experiment-label {antibody}',\n",
    "        f'--output-json {output_json}',\n",
    "        f'--output-df {output_df}'\n",
    "    ])\n",
    "    ! {cmd}"
   ]
  },
  {
   "cell_type": "markdown",
   "id": "217f3837",
   "metadata": {},
   "source": [
    "Read in dataframes with predicted escape scores and merge with metadata"
   ]
  },
  {
   "cell_type": "code",
   "execution_count": 20,
   "id": "9c58e39e",
   "metadata": {},
   "outputs": [],
   "source": [
    "# Read in predicted escape scores\n",
    "fs = glob.glob(os.path.join(resultsdir, '*_escape_pred.csv'))\n",
    "dfs = []\n",
    "for f in fs:\n",
    "    antibody = os.path.basename(f).replace('_escape_pred.csv', '')\n",
    "    df = pd.read_csv(f)\n",
    "    df['antibody'] = antibody\n",
    "    dfs.append(df)\n",
    "pred_df = pd.concat(dfs)\n",
    "pred_df.rename(columns={'pred_phenotype':'escape_score'}, inplace=True)\n",
    "pred_df = pred_df.merge(conv_ab_group_df, on='antibody', how='left')\n",
    "\n",
    "# Read in metadata\n",
    "metadata_f = 'results/escaped-clinically-approved-abs/escaped-clinically-approved-abs_subsampled_metadata.tsv.xz'\n",
    "metadata_df = pd.read_csv(\n",
    "    metadata_f,\n",
    "    compression='xz', sep='\\t', on_bad_lines='skip'\n",
    ")\n",
    "\n",
    "# Merge with prediction dataframe\n",
    "pred_df = pred_df.merge(\n",
    "    metadata_df[['strain', 'date', 'Nextstrain_clade']], on='strain'\n",
    ")\n",
    "pred_df['date'] = pd.to_datetime(pred_df['date'])\n",
    "pred_df['time'] = (pred_df['date'] - pred_df['date'].min()).dt.days / 365"
   ]
  },
  {
   "cell_type": "code",
   "execution_count": 21,
   "id": "807edf61",
   "metadata": {},
   "outputs": [],
   "source": [
    "pred_df.to_csv(\n",
    "    os.path.join(resultsdir, 'all_predictions.csv'),\n",
    "    index=False\n",
    ")"
   ]
  },
  {
   "cell_type": "code",
   "execution_count": 23,
   "metadata": {},
   "outputs": [
    {
     "data": {
      "text/plain": [
       "'results/cao_predictions/imprinted_2022_abs/escaped-clinically-approved-abs/all_predictions.csv'"
      ]
     },
     "execution_count": 23,
     "metadata": {},
     "output_type": "execute_result"
    }
   ],
   "source": [
    "os.path.join(resultsdir, 'all_predictions.csv')"
   ]
  },
  {
   "cell_type": "code",
   "execution_count": 22,
   "id": "b24858c6",
   "metadata": {},
   "outputs": [
    {
     "data": {
      "text/plain": [
       "3510"
      ]
     },
     "execution_count": 22,
     "metadata": {},
     "output_type": "execute_result"
    }
   ],
   "source": [
    "len(pred_df['strain'].unique())"
   ]
  },
  {
   "cell_type": "code",
   "execution_count": null,
   "metadata": {},
   "outputs": [],
   "source": []
  },
  {
   "cell_type": "code",
   "execution_count": null,
   "id": "4d8426a7",
   "metadata": {},
   "outputs": [],
   "source": []
  },
  {
   "cell_type": "code",
   "execution_count": 143,
   "id": "25a0b2bb",
   "metadata": {},
   "outputs": [
    {
     "data": {
      "text/plain": [
       "<Axes: xlabel='escape_score', ylabel='Count'>"
      ]
     },
     "execution_count": 143,
     "metadata": {},
     "output_type": "execute_result"
    },
    {
     "data": {
      "image/png": "[encoded data removed]",
      "text/plain": [
       "<Figure size 640x480 with 1 Axes>"
      ]
     },
     "metadata": {},
     "output_type": "display_data"
    }
   ],
   "source": [
    "sns.histplot(pred_df['escape_score'])"
   ]
  },
  {
   "cell_type": "code",
   "execution_count": null,
   "id": "3bfaf15f",
   "metadata": {},
   "outputs": [],
   "source": []
  },
  {
   "cell_type": "code",
   "execution_count": 133,
   "id": "c858c7ba",
   "metadata": {},
   "outputs": [
    {
     "data": {
      "text/plain": [
       "3134590"
      ]
     },
     "execution_count": 133,
     "metadata": {},
     "output_type": "execute_result"
    }
   ],
   "source": [
    "sum(pred_df['aa_substitutions'].isnull())"
   ]
  },
  {
   "cell_type": "code",
   "execution_count": 134,
   "id": "0c8575e9",
   "metadata": {},
   "outputs": [
    {
     "data": {
      "text/plain": [
       "8283996"
      ]
     },
     "execution_count": 134,
     "metadata": {},
     "output_type": "execute_result"
    }
   ],
   "source": [
    "len(pred_df)"
   ]
  },
  {
   "cell_type": "code",
   "execution_count": null,
   "id": "9cb917a5",
   "metadata": {},
   "outputs": [],
   "source": []
  },
  {
   "cell_type": "code",
   "execution_count": null,
   "id": "f72e89a2",
   "metadata": {},
   "outputs": [],
   "source": []
  },
  {
   "cell_type": "code",
   "execution_count": null,
   "id": "8942ec34",
   "metadata": {},
   "outputs": [],
   "source": []
  }
 ],
 "metadata": {
  "kernelspec": {
   "display_name": "Python 3 (ipykernel)",
   "language": "python",
   "name": "python3"
  },
  "language_info": {
   "codemirror_mode": {
    "name": "ipython",
    "version": 3
   },
   "file_extension": ".py",
   "mimetype": "text/x-python",
   "name": "python",
   "nbconvert_exporter": "python",
   "pygments_lexer": "ipython3",
   "version": "3.12.0"
  }
 },
 "nbformat": 4,
 "nbformat_minor": 5
}
