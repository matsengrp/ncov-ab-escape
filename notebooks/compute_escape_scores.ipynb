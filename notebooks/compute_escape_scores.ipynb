{
 "cells": [
  {
   "cell_type": "markdown",
   "id": "5849ba72",
   "metadata": {},
   "source": [
    "# Compute escape scores"
   ]
  },
  {
   "cell_type": "markdown",
   "id": "41a33d61",
   "metadata": {},
   "source": [
    "Workflow:\n",
    "\n",
    "TODO:\n",
    "* copy DMS data of example antibody to my_profiles\n",
    "* Include a few example antibodies in the bulid: one from each cluster\n",
    "* make new config file\n",
    "\n",
    "* download files and note date\n",
    "* data from escape calculator\n",
    "    * simple: wget\n",
    "    * complex: submodule\n",
    "* ncov build\n",
    "    * alignment and metadata\n",
    "* turn into snakemake workflow?"
   ]
  },
  {
   "cell_type": "markdown",
   "id": "86dff6c5",
   "metadata": {},
   "source": [
    "## Import Python modules and initialize directories"
   ]
  },
  {
   "cell_type": "code",
   "execution_count": 2,
   "id": "ca6fcca4",
   "metadata": {},
   "outputs": [],
   "source": [
    "import os\n",
    "import sys\n",
    "import glob\n",
    "import pandas as pd\n",
    "from collections import defaultdict\n",
    "\n",
    "resultsdir = '../results/predicted_escape_scores/'\n",
    "if not os.path.isdir(resultsdir):\n",
    "    os.makedirs(resultsdir)"
   ]
  },
  {
   "cell_type": "markdown",
   "id": "ea25952f",
   "metadata": {},
   "source": [
    "## Compile input DMS data"
   ]
  },
  {
   "cell_type": "markdown",
   "id": "62b1dbae",
   "metadata": {},
   "source": [
    "Read in DMS data from [Cao et al.](https://doi.org/10.1038/s41586-022-05644-7), processed by the [Bloom lab's escape calculator](https://github.com/jbloomlab/SARS2-RBD-escape-calc). Then, select a subset of antibodies to analyze: those that were from the above paper (called `imprinted_2022` in the dataframe) and those that were isolated from people exposed to SARS-CoV-2 (ignoring SARS-Cov-1 convalescents)."
   ]
  },
  {
   "cell_type": "code",
   "execution_count": 3,
   "id": "ea07007f",
   "metadata": {},
   "outputs": [
    {
     "name": "stdout",
     "output_type": "stream",
     "text": [
      "Selected 1904 antibodies from Cao et al. to analyze\n"
     ]
    }
   ],
   "source": [
    "# Read in site-level escape scores\n",
    "escape_calc_resultsdir = '../data/escape_calc/'\n",
    "site_escape_df = pd.read_csv(os.path.join(escape_calc_resultsdir, 'escape.csv'))\n",
    "\n",
    "# Read in data on antibody sources\n",
    "ab_source_df = pd.read_csv(os.path.join(escape_calc_resultsdir, 'antibody_sources.csv'))\n",
    "\n",
    "# Make a list of antibodies to analyze\n",
    "cao_abs_to_analyze = ab_source_df[\n",
    "    (ab_source_df['study'] == 'imprinted_2022') &\n",
    "    (ab_source_df['source'] != 'SARS convalescents')\n",
    "]['antibody'].unique()\n",
    "print(f'Selected {len(cao_abs_to_analyze)} antibodies from Cao et al. to analyze')"
   ]
  },
  {
   "cell_type": "markdown",
   "id": "12208d67",
   "metadata": {},
   "source": [
    "For each of the above antibodies, make a dataframe with site-specific amino-acid escape value, where each entry at a given site corresponds to the site's value from `site_escape_df`. This strategy assumes that all mutations at a site have the same effect. The Bloom lab's escape calculator also makes this assumption, the reason being the amino-acid level measurements are noisy and site-level measurements are less so. These dataframes will serve as input for `dmsa-pred` below."
   ]
  },
  {
   "cell_type": "code",
   "execution_count": 4,
   "id": "0e405b19",
   "metadata": {},
   "outputs": [],
   "source": [
    "# Read in a complete list of sites and wildtype aminio acids for the RBD\n",
    "site_df = pd.read_csv('../data/RBD_sites.csv')\n",
    "site_df.rename(columns={\n",
    "    'site_SARS2' : 'site',\n",
    "    'amino_acid_SARS2' : 'wildtype'\n",
    "}, inplace=True)\n",
    "\n",
    "# Make dataframe with amino-acid-level escape scores\n",
    "aa_escape_dict = defaultdict(list)\n",
    "sites = list(set(site_escape_df['site']))\n",
    "amino_acids = 'ACDEFGHIKLMNPQRSTVWY'\n",
    "for (i, row) in site_df.iterrows():\n",
    "    site = int(row.site)\n",
    "    wt = str(row.wildtype)\n",
    "    for mut in amino_acids:\n",
    "        if wt == mut:\n",
    "            continue\n",
    "        aa_escape_dict['site'].append(site)\n",
    "        aa_escape_dict['aa_sub'].append(f'{wt}{site}{mut}')\n",
    "\n",
    "aa_escape_df = pd.DataFrame(aa_escape_dict)\n",
    "aa_escape_df = aa_escape_df.merge(site_escape_df, on='site')\n",
    "aa_escape_df = aa_escape_df[aa_escape_df['antibody'].isin(cao_abs_to_analyze)]\n",
    "\n",
    "# For each antibody, write a dataframe with amino-acid-level escape scores\n",
    "cao_dms_fs = []\n",
    "for (antibody, data) in aa_escape_df.groupby('antibody'):\n",
    "    output_f = os.path.join(resultsdir, f'{antibody}_mut_effects.csv')\n",
    "    cao_dms_fs.append(output_f)\n",
    "    if not os.path.isfile(output_f):\n",
    "        data.to_csv(output_f, index=False)"
   ]
  },
  {
   "cell_type": "markdown",
   "id": "8533d2a9",
   "metadata": {},
   "source": [
    "## Compute escape scores from DMS data"
   ]
  },
  {
   "cell_type": "markdown",
   "id": "4d6c48f2",
   "metadata": {},
   "source": [
    "Make a list of input files from Bloom lab DMSs."
   ]
  },
  {
   "cell_type": "code",
   "execution_count": 5,
   "id": "c1c7839f",
   "metadata": {},
   "outputs": [],
   "source": [
    "bloom_dms_fs = [\n",
    "    '../ncov-dmsa/my_profiles/escape-frac-data/Dong_2021_AZD1061.csv',\n",
    "    '../ncov-dmsa/my_profiles/escape-frac-data/Dong_2021_AZD8895.csv',\n",
    "    '../ncov-dmsa/my_profiles/escape-frac-data/Starr_2021_LY-CoV555.csv',\n",
    "    '../ncov-dmsa/my_profiles/escape-frac-data/Starr_2021_LY-CoV016.csv',\n",
    "    '../ncov-dmsa/my_profiles/escape-frac-data/Starr_2021_REGN10933.csv',\n",
    "    '../ncov-dmsa/my_profiles/escape-frac-data/Starr_2021_REGN10987.csv'\n",
    " ]"
   ]
  },
  {
   "cell_type": "markdown",
   "id": "cd31d733",
   "metadata": {},
   "source": [
    "For each antibody from both the Cao and Bloom datasets, use `dmsa-phenotype` to compute an escape score for each virus in an input multiple-sequence alignment."
   ]
  },
  {
   "cell_type": "code",
   "execution_count": 6,
   "id": "d7af8782",
   "metadata": {},
   "outputs": [],
   "source": [
    "# Define input params related to alignment\n",
    "alignment = '../ncov-dmsa/results/global-build/translations/aligned.gene.S_withInternalNodes.fasta'\n",
    "dms_wt_seq_id = 'Wuhan-Hu-1/2019'\n",
    "\n",
    "# Get DMS inputs\n",
    "cao_dms_inputs = [(f, 'escape', 'aa_sub') for f in cao_dms_fs]\n",
    "bloom_dms_inputs = [(f, 'mut_escape', 'aa_mutation') for f in bloom_dms_fs]\n",
    "dms_inputs = cao_dms_inputs + bloom_dms_inputs\n",
    "\n",
    "# Cycle over each antibody with DMS data and compute escape scores\n",
    "for (i, (mut_effects_f, mut_effect_col, mutation_col)) in enumerate(dms_inputs, 1):\n",
    "\n",
    "    # Define output files\n",
    "    ab_label = os.path.basename(mut_effects_f).replace('_mut_effects.csv', '').replace('.csv', '')\n",
    "    output_json = os.path.join(resultsdir, f'{ab_label}_escape_pred.json')\n",
    "    output_df = os.path.join(resultsdir, f'{ab_label}_escape_pred.csv')\n",
    "    \n",
    "    # Run dmsa-pred\n",
    "    cmd = ' '.join([\n",
    "        'python',\n",
    "        '../ncov-dmsa/my_profiles/dmsa-pred/dmsa_pred.py phenotype-prediction',\n",
    "        '--model-type additive',\n",
    "        f'--alignment {alignment}',\n",
    "        f'--dms-wt-seq-id {dms_wt_seq_id}',\n",
    "        f'--mut-effects-df {mut_effects_f}',\n",
    "        f'--mut-effect-col {mut_effect_col}',\n",
    "        f'--mutation-col {mutation_col}',\n",
    "        '--mask-seqs-with-disallowed-aa-subs False',\n",
    "        f'--experiment-label {ab_label}',\n",
    "        f'--output-json {output_json}',\n",
    "        f'--output-df {output_df}'\n",
    "    ])\n",
    "    if not os.path.isfile(output_df):\n",
    "        print(i, ab_label)\n",
    "        ! {cmd}"
   ]
  },
  {
   "cell_type": "markdown",
   "id": "8e6e1fe1",
   "metadata": {},
   "source": [
    "## Read in escape scores and merge with Nextstrain metadata"
   ]
  },
  {
   "cell_type": "code",
   "execution_count": 7,
   "id": "9c58e39e",
   "metadata": {},
   "outputs": [
    {
     "name": "stdout",
     "output_type": "stream",
     "text": [
      "Read in data for\n",
      "1910 antibodies\n",
      "3942 strains\n",
      "Saving data to ../results/predicted_escape_scores/all_predictions.csv\n"
     ]
    }
   ],
   "source": [
    "# Read in predicted escape scores\n",
    "fs = glob.glob(os.path.join(resultsdir, '*_escape_pred.csv'))\n",
    "dfs = []\n",
    "for f in fs:\n",
    "    antibody = os.path.basename(f).replace('_escape_pred.csv', '')\n",
    "    df = pd.read_csv(f)\n",
    "    df = df[~df['strain'].str.contains('NODE')]\n",
    "    df['antibody'] = antibody\n",
    "    dfs.append(df)\n",
    "pred_df = pd.concat(dfs)\n",
    "pred_df.rename(columns={'pred_phenotype':'escape_score'}, inplace=True)\n",
    "\n",
    "# Read in metadata from Nextstrain\n",
    "metadata_f = '../ncov-dmsa/results/global-build/global-build_subsampled_metadata.tsv.xz'\n",
    "metadata_df = pd.read_csv(\n",
    "    metadata_f,\n",
    "    compression='xz', sep='\\t', on_bad_lines='skip'\n",
    ")\n",
    "metadata_df['date'] = pd.to_datetime(metadata_df['date'])\n",
    "metadata_df['year'] = metadata_df['date'].apply(\n",
    "    lambda x: x.year + ((x.dayofyear - 1) / 365)\n",
    ")\n",
    "metadata_df['time'] = metadata_df['year'] - metadata_df['year'].min()\n",
    "\n",
    "# Merge with prediction dataframe\n",
    "pred_df = pred_df.merge(\n",
    "    metadata_df[['strain', 'date', 'year', 'time', 'Nextstrain_clade']],\n",
    "    on='strain', how='left'\n",
    ")\n",
    "\n",
    "# Report stats and save data to file\n",
    "n_abs = len(pred_df['antibody'].unique())\n",
    "n_strains = len(pred_df['strain'].unique())\n",
    "assert sum(pred_df['strain'].value_counts() != n_abs) == 0\n",
    "print('Read in data for')\n",
    "print(n_abs, 'antibodies')\n",
    "print(n_strains, 'strains')\n",
    "\n",
    "output_f = os.path.join(resultsdir, 'all_predictions.csv')\n",
    "if not os.path.isfile(output_f):\n",
    "    print('Saving data to', output_f)\n",
    "    pred_df.to_csv(output_f, index=False)"
   ]
  },
  {
   "cell_type": "code",
   "execution_count": null,
   "id": "8942ec34",
   "metadata": {},
   "outputs": [],
   "source": []
  }
 ],
 "metadata": {
  "kernelspec": {
   "display_name": "Python 3 (ipykernel)",
   "language": "python",
   "name": "python3"
  },
  "language_info": {
   "codemirror_mode": {
    "name": "ipython",
    "version": 3
   },
   "file_extension": ".py",
   "mimetype": "text/x-python",
   "name": "python",
   "nbconvert_exporter": "python",
   "pygments_lexer": "ipython3",
   "version": "3.9.16"
  }
 },
 "nbformat": 4,
 "nbformat_minor": 5
}
