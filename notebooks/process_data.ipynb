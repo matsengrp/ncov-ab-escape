{
 "cells": [
  {
   "cell_type": "markdown",
   "id": "b559f3dd-4d65-4a16-ae49-23436f6871d4",
   "metadata": {},
   "source": [
    "# Process the deep mutational scanning data\n",
    "\n",
    "This notebook is a modified version of `process_data.ipynb` from the [Bloom lab's escape calculator](https://github.com/jbloomlab/SARS2-RBD-escape-calc).\n",
    "\n",
    "The data come from [this paper from Yunlong Cao's group](https://www.nature.com/articles/s41586-022-05644-7)."
   ]
  },
  {
   "cell_type": "markdown",
   "id": "6a2d4336",
   "metadata": {},
   "source": [
    "## Import Python modules"
   ]
  },
  {
   "cell_type": "code",
   "execution_count": 1,
   "id": "2a9757e8-5572-4173-a5c3-025991bccac5",
   "metadata": {
    "execution": {
     "iopub.execute_input": "2023-06-20T23:54:02.858357Z",
     "iopub.status.busy": "2023-06-20T23:54:02.857715Z",
     "iopub.status.idle": "2023-06-20T23:54:18.390973Z",
     "shell.execute_reply": "2023-06-20T23:54:18.389762Z"
    },
    "tags": []
   },
   "outputs": [],
   "source": [
    "import os\n",
    "import sys\n",
    "import glob\n",
    "from collections import defaultdict\n",
    "import pandas as pd\n",
    "import numpy as np\n",
    "import math\n",
    "import matplotlib.pyplot as plt\n",
    "import seaborn as sns\n",
    "\n",
    "resultsdir = '../results/processed_input_data/'\n",
    "if not os.path.isdir(resultsdir):\n",
    "    os.makedirs(resultsdir)"
   ]
  },
  {
   "cell_type": "markdown",
   "id": "61f906ab",
   "metadata": {},
   "source": [
    "## Process the data"
   ]
  },
  {
   "cell_type": "markdown",
   "id": "c55354ad",
   "metadata": {},
   "source": [
    "Read in DMS data and antibody metadata, and filter out antibodies that do not have strong signal in the DMS experiment"
   ]
  },
  {
   "cell_type": "code",
   "execution_count": 2,
   "id": "b249ed38-a3d0-451d-9380-2dcfae9c405b",
   "metadata": {
    "execution": {
     "iopub.execute_input": "2023-06-20T23:54:19.074737Z",
     "iopub.status.busy": "2023-06-20T23:54:19.074354Z",
     "iopub.status.idle": "2023-06-20T23:54:20.821511Z",
     "shell.execute_reply": "2023-06-20T23:54:20.820763Z"
    },
    "tags": []
   },
   "outputs": [
    {
     "name": "stdout",
     "output_type": "stream",
     "text": [
      "N antibodies with data: 3333\n",
      "N antibodies with strong DMS signal: 2326\n"
     ]
    },
    {
     "data": {
      "text/html": [
       "<div>\n",
       "<style scoped>\n",
       "    .dataframe tbody tr th:only-of-type {\n",
       "        vertical-align: middle;\n",
       "    }\n",
       "\n",
       "    .dataframe tbody tr th {\n",
       "        vertical-align: top;\n",
       "    }\n",
       "\n",
       "    .dataframe thead th {\n",
       "        text-align: right;\n",
       "    }\n",
       "</style>\n",
       "<table border=\"1\" class=\"dataframe\">\n",
       "  <thead>\n",
       "    <tr style=\"text-align: right;\">\n",
       "      <th></th>\n",
       "      <th>antibody</th>\n",
       "      <th>source</th>\n",
       "      <th>D614G</th>\n",
       "      <th>BA.1</th>\n",
       "      <th>BA.2</th>\n",
       "      <th>BA.5</th>\n",
       "      <th>BA.2.75</th>\n",
       "      <th>BQ.1.1</th>\n",
       "      <th>XBB</th>\n",
       "      <th>Heavy chain V gene</th>\n",
       "      <th>Heavy chain J gene</th>\n",
       "      <th>Light chain V gene</th>\n",
       "      <th>Light chain J gene</th>\n",
       "      <th>Heavy chain AA</th>\n",
       "      <th>Light chain AA</th>\n",
       "      <th>sheet_name</th>\n",
       "      <th>study</th>\n",
       "    </tr>\n",
       "  </thead>\n",
       "  <tbody>\n",
       "    <tr>\n",
       "      <th>0</th>\n",
       "      <td>BD-196</td>\n",
       "      <td>WT convalescents</td>\n",
       "      <td>1.93</td>\n",
       "      <td>&gt;10</td>\n",
       "      <td>&gt;10</td>\n",
       "      <td>&gt;10</td>\n",
       "      <td>&gt;10</td>\n",
       "      <td>&gt;10</td>\n",
       "      <td>&gt;10</td>\n",
       "      <td>IGHV1-3</td>\n",
       "      <td>IGHJ6</td>\n",
       "      <td>IGKV2-58</td>\n",
       "      <td>IGKJ1</td>\n",
       "      <td>QVQLVQSGAEVKKPGASVKVSCKASGYTFTSYAMHWVRQAPGQRLE...</td>\n",
       "      <td>DVVMTQSPLSLPVTLGQPASISCRSSQSLVYSDGNTYLNWFQQRPG...</td>\n",
       "      <td>cross</td>\n",
       "      <td>imprinted_2022</td>\n",
       "    </tr>\n",
       "    <tr>\n",
       "      <th>3</th>\n",
       "      <td>BD-254</td>\n",
       "      <td>WT convalescents</td>\n",
       "      <td>0.25</td>\n",
       "      <td>&gt;10</td>\n",
       "      <td>&gt;10</td>\n",
       "      <td>&gt;10</td>\n",
       "      <td>&gt;10</td>\n",
       "      <td>&gt;10</td>\n",
       "      <td>&gt;10</td>\n",
       "      <td>IGHV3-23</td>\n",
       "      <td>IGHJ4</td>\n",
       "      <td>IGLV7-46</td>\n",
       "      <td>IGLJ2</td>\n",
       "      <td>EVQLLESGGGLVQPGGSLRLSCAASGFTLSSYAMSWVRQAPGRGLE...</td>\n",
       "      <td>QAVVTQEPSLTVSPGGTVTLTCGSSTGAVTSGHYPYWFQQKPGQAP...</td>\n",
       "      <td>cross</td>\n",
       "      <td>imprinted_2022</td>\n",
       "    </tr>\n",
       "    <tr>\n",
       "      <th>5</th>\n",
       "      <td>BD-319</td>\n",
       "      <td>WT convalescents</td>\n",
       "      <td>0.137</td>\n",
       "      <td>&gt;10</td>\n",
       "      <td>&gt;10</td>\n",
       "      <td>&gt;10</td>\n",
       "      <td>&gt;10</td>\n",
       "      <td>&gt;10</td>\n",
       "      <td>&gt;10</td>\n",
       "      <td>IGHV3-53</td>\n",
       "      <td>IGHJ3</td>\n",
       "      <td>IGLV2-23</td>\n",
       "      <td>IGLJ3</td>\n",
       "      <td>EVQLVESGGGLIQPGGSLRLSCAASGFTVSSNYMSWVRQAPGKGLE...</td>\n",
       "      <td>QSALTQPASVSGSPGQSITISCTGTSSDVGSYNLVSWYQQHPGKAP...</td>\n",
       "      <td>cross</td>\n",
       "      <td>imprinted_2022</td>\n",
       "    </tr>\n",
       "    <tr>\n",
       "      <th>6</th>\n",
       "      <td>BD-320</td>\n",
       "      <td>WT convalescents</td>\n",
       "      <td>2.49</td>\n",
       "      <td>2.48</td>\n",
       "      <td>3.17</td>\n",
       "      <td>2.82</td>\n",
       "      <td>3.34</td>\n",
       "      <td>1.79</td>\n",
       "      <td>1.69</td>\n",
       "      <td>IGHV4-59</td>\n",
       "      <td>IGHJ4</td>\n",
       "      <td>IGLV6-57</td>\n",
       "      <td>IGLJ3</td>\n",
       "      <td>QVQLQESGPGLVKPSETLSLTCTVSGGSISSYYWSWIRQPPGKGLE...</td>\n",
       "      <td>NFMLTQPHSVSESPGKTVTISCTGSSGSIASNYVQWYQQRPGSAPT...</td>\n",
       "      <td>cross</td>\n",
       "      <td>imprinted_2022</td>\n",
       "    </tr>\n",
       "    <tr>\n",
       "      <th>7</th>\n",
       "      <td>BD-362</td>\n",
       "      <td>WT convalescents</td>\n",
       "      <td>0.212</td>\n",
       "      <td>&gt;10</td>\n",
       "      <td>&gt;10</td>\n",
       "      <td>&gt;10</td>\n",
       "      <td>&gt;10</td>\n",
       "      <td>&gt;10</td>\n",
       "      <td>&gt;10</td>\n",
       "      <td>IGHV1-18</td>\n",
       "      <td>IGHJ5</td>\n",
       "      <td>IGKV3-15</td>\n",
       "      <td>IGKJ5</td>\n",
       "      <td>QIQLVQSGAEVKKPGASVRVSCKASGFTFGRYGITWVRQVPGQGLE...</td>\n",
       "      <td>EIVMTQSPATLSVSPGERVTLSCRASQSVNRNLAWYQQKPGQAPRL...</td>\n",
       "      <td>cross</td>\n",
       "      <td>imprinted_2022</td>\n",
       "    </tr>\n",
       "  </tbody>\n",
       "</table>\n",
       "</div>"
      ],
      "text/plain": [
       "  antibody            source  D614G  BA.1  BA.2  BA.5 BA.2.75 BQ.1.1   XBB  \\\n",
       "0   BD-196  WT convalescents   1.93   >10   >10   >10     >10    >10   >10   \n",
       "3   BD-254  WT convalescents   0.25   >10   >10   >10     >10    >10   >10   \n",
       "5   BD-319  WT convalescents  0.137   >10   >10   >10     >10    >10   >10   \n",
       "6   BD-320  WT convalescents   2.49  2.48  3.17  2.82    3.34   1.79  1.69   \n",
       "7   BD-362  WT convalescents  0.212   >10   >10   >10     >10    >10   >10   \n",
       "\n",
       "  Heavy chain V gene Heavy chain J gene Light chain V gene Light chain J gene  \\\n",
       "0            IGHV1-3              IGHJ6           IGKV2-58              IGKJ1   \n",
       "3           IGHV3-23              IGHJ4           IGLV7-46              IGLJ2   \n",
       "5           IGHV3-53              IGHJ3           IGLV2-23              IGLJ3   \n",
       "6           IGHV4-59              IGHJ4           IGLV6-57              IGLJ3   \n",
       "7           IGHV1-18              IGHJ5           IGKV3-15              IGKJ5   \n",
       "\n",
       "                                      Heavy chain AA  \\\n",
       "0  QVQLVQSGAEVKKPGASVKVSCKASGYTFTSYAMHWVRQAPGQRLE...   \n",
       "3  EVQLLESGGGLVQPGGSLRLSCAASGFTLSSYAMSWVRQAPGRGLE...   \n",
       "5  EVQLVESGGGLIQPGGSLRLSCAASGFTVSSNYMSWVRQAPGKGLE...   \n",
       "6  QVQLQESGPGLVKPSETLSLTCTVSGGSISSYYWSWIRQPPGKGLE...   \n",
       "7  QIQLVQSGAEVKKPGASVRVSCKASGFTFGRYGITWVRQVPGQGLE...   \n",
       "\n",
       "                                      Light chain AA sheet_name  \\\n",
       "0  DVVMTQSPLSLPVTLGQPASISCRSSQSLVYSDGNTYLNWFQQRPG...      cross   \n",
       "3  QAVVTQEPSLTVSPGGTVTLTCGSSTGAVTSGHYPYWFQQKPGQAP...      cross   \n",
       "5  QSALTQPASVSGSPGQSITISCTGTSSDVGSYNLVSWYQQHPGKAP...      cross   \n",
       "6  NFMLTQPHSVSESPGKTVTISCTGSSGSIASNYVQWYQQRPGSAPT...      cross   \n",
       "7  EIVMTQSPATLSVSPGERVTLSCRASQSVNRNLAWYQQKPGQAPRL...      cross   \n",
       "\n",
       "            study  \n",
       "0  imprinted_2022  \n",
       "3  imprinted_2022  \n",
       "5  imprinted_2022  \n",
       "6  imprinted_2022  \n",
       "7  imprinted_2022  "
      ]
     },
     "execution_count": 2,
     "metadata": {},
     "output_type": "execute_result"
    }
   ],
   "source": [
    "# Read antibody metadata, which is in multiple sheets\n",
    "imprinted_2022_raw_info = pd.read_excel(\n",
    "    \"../convergent_RBD_evolution/antibody_info.xlsx\",\n",
    "    header=1,\n",
    "    sheet_name=None,\n",
    "    usecols=lambda c: not c.startswith(\"Unnamed\"),\n",
    ")\n",
    "\n",
    "common_cols = None\n",
    "\n",
    "for sheetname, sheet in imprinted_2022_raw_info.items():\n",
    "    columns = sheet.columns.tolist()\n",
    "    if common_cols is None:\n",
    "        common_cols = columns\n",
    "    else:\n",
    "        common_cols = [\n",
    "            c for c in columns if c in set(common_cols).intersection(columns)\n",
    "        ]\n",
    "\n",
    "imprinted_2022_info = pd.concat(\n",
    "    [\n",
    "        sheet[common_cols].assign(sheet_name=sheet_name)\n",
    "        for sheet_name, sheet in imprinted_2022_raw_info.items()\n",
    "    ],\n",
    "    ignore_index=True,\n",
    ").rename(columns={\"Antibody  Name\": \"antibody\"}).assign(study=\"imprinted_2022\")\n",
    "\n",
    "assert len(imprinted_2022_info) == imprinted_2022_info[\"antibody\"].nunique()\n",
    "print('N antibodies with data:', len(imprinted_2022_info))\n",
    "\n",
    "# Read in amino-acid level DMS data from Cao et al.\n",
    "dms_df = pd.read_csv('../convergent_RBD_evolution/use_res_clean.csv')\n",
    "\n",
    "# Make a list of antibodies with DMS data that shows strong signal of escape\n",
    "# (i.e., maximum sum of escape scores per site is >2 for at least one site)\n",
    "site_max_df = (\n",
    "    dms_df\n",
    "    .groupby(['antibody', 'site'], as_index=False)['mut_escape'].sum()\n",
    "    .groupby('antibody', as_index=False)['mut_escape'].max()\n",
    ")\n",
    "abs_with_high_site_escape_scores = site_max_df[site_max_df['mut_escape'] > 2]['antibody'].unique()\n",
    "print('N antibodies with strong DMS signal:', len(abs_with_high_site_escape_scores))\n",
    "\n",
    "# Filter out antibodies that do not show strong signal from DMS\n",
    "imprinted_2022_info = imprinted_2022_info[\n",
    "    imprinted_2022_info['antibody'].isin(abs_with_high_site_escape_scores)\n",
    "]\n",
    "assert len(imprinted_2022_info) == len(abs_with_high_site_escape_scores)\n",
    "\n",
    "imprinted_2022_info.head()"
   ]
  },
  {
   "cell_type": "markdown",
   "id": "fce0fdbd",
   "metadata": {},
   "source": [
    "Get the antibody sources, and filter out antibodies isolated from SARS convalescents and from the WT-engineered group."
   ]
  },
  {
   "cell_type": "code",
   "execution_count": 3,
   "id": "706122b4-74af-4cba-9d7a-d256db440fea",
   "metadata": {
    "execution": {
     "iopub.execute_input": "2023-06-20T23:54:20.825005Z",
     "iopub.status.busy": "2023-06-20T23:54:20.824542Z",
     "iopub.status.idle": "2023-06-20T23:54:20.840191Z",
     "shell.execute_reply": "2023-06-20T23:54:20.839485Z"
    },
    "tags": []
   },
   "outputs": [
    {
     "name": "stdout",
     "output_type": "stream",
     "text": [
      "N antibodies after filtering based on source: 1616\n"
     ]
    },
    {
     "data": {
      "text/html": [
       "<div>\n",
       "<style scoped>\n",
       "    .dataframe tbody tr th:only-of-type {\n",
       "        vertical-align: middle;\n",
       "    }\n",
       "\n",
       "    .dataframe tbody tr th {\n",
       "        vertical-align: top;\n",
       "    }\n",
       "\n",
       "    .dataframe thead th {\n",
       "        text-align: right;\n",
       "    }\n",
       "</style>\n",
       "<table border=\"1\" class=\"dataframe\">\n",
       "  <thead>\n",
       "    <tr style=\"text-align: right;\">\n",
       "      <th></th>\n",
       "      <th></th>\n",
       "      <th>n_antibodies</th>\n",
       "    </tr>\n",
       "    <tr>\n",
       "      <th>study</th>\n",
       "      <th>source</th>\n",
       "      <th></th>\n",
       "    </tr>\n",
       "  </thead>\n",
       "  <tbody>\n",
       "    <tr>\n",
       "      <th rowspan=\"5\" valign=\"top\">imprinted_2022</th>\n",
       "      <th>BA.1 convalescents</th>\n",
       "      <td>465</td>\n",
       "    </tr>\n",
       "    <tr>\n",
       "      <th>BA.2 convalescents</th>\n",
       "      <td>472</td>\n",
       "    </tr>\n",
       "    <tr>\n",
       "      <th>BA.5 convalescents</th>\n",
       "      <td>145</td>\n",
       "    </tr>\n",
       "    <tr>\n",
       "      <th>WT convalescents</th>\n",
       "      <td>326</td>\n",
       "    </tr>\n",
       "    <tr>\n",
       "      <th>WT vaccinees</th>\n",
       "      <td>208</td>\n",
       "    </tr>\n",
       "  </tbody>\n",
       "</table>\n",
       "</div>"
      ],
      "text/plain": [
       "                                   n_antibodies\n",
       "study          source                          \n",
       "imprinted_2022 BA.1 convalescents           465\n",
       "               BA.2 convalescents           472\n",
       "               BA.5 convalescents           145\n",
       "               WT convalescents             326\n",
       "               WT vaccinees                 208"
      ]
     },
     "metadata": {},
     "output_type": "display_data"
    }
   ],
   "source": [
    "imprinted_2022_source = (\n",
    "    imprinted_2022_info\n",
    "    [[\"antibody\", \"source\", \"study\"]]\n",
    "    .query(\"source != 'WT-engineered'\")\n",
    "    .query(\"source != 'SARS convalescents'\")\n",
    ")\n",
    "source_filtered_abs = imprinted_2022_source['antibody'].unique()\n",
    "print('N antibodies after filtering based on source:', len(source_filtered_abs))\n",
    "display(\n",
    "    imprinted_2022_source\n",
    "    .groupby([\"study\", \"source\"])\n",
    "    .aggregate(n_antibodies=pd.NamedAgg(\"antibody\", \"nunique\"))\n",
    ")"
   ]
  },
  {
   "cell_type": "markdown",
   "id": "4f86f9a0",
   "metadata": {},
   "source": [
    "Get the IC50s for the above antibodies, and filter out the few antibodies with missing data against at least one viral variant"
   ]
  },
  {
   "cell_type": "code",
   "execution_count": 4,
   "id": "6e7dc881-b3ea-4af6-9e09-95e99b898440",
   "metadata": {
    "execution": {
     "iopub.execute_input": "2023-06-20T23:54:20.844204Z",
     "iopub.status.busy": "2023-06-20T23:54:20.843738Z",
     "iopub.status.idle": "2023-06-20T23:54:20.979635Z",
     "shell.execute_reply": "2023-06-20T23:54:20.978186Z"
    },
    "tags": []
   },
   "outputs": [
    {
     "name": "stdout",
     "output_type": "stream",
     "text": [
      "\n",
      "Number of IC50s per antibody:\n"
     ]
    },
    {
     "data": {
      "text/html": [
       "<div>\n",
       "<style scoped>\n",
       "    .dataframe tbody tr th:only-of-type {\n",
       "        vertical-align: middle;\n",
       "    }\n",
       "\n",
       "    .dataframe tbody tr th {\n",
       "        vertical-align: top;\n",
       "    }\n",
       "\n",
       "    .dataframe thead th {\n",
       "        text-align: right;\n",
       "    }\n",
       "</style>\n",
       "<table border=\"1\" class=\"dataframe\">\n",
       "  <thead>\n",
       "    <tr style=\"text-align: right;\">\n",
       "      <th></th>\n",
       "      <th>n_antibodies</th>\n",
       "    </tr>\n",
       "    <tr>\n",
       "      <th>viruses_w_IC50s</th>\n",
       "      <th></th>\n",
       "    </tr>\n",
       "  </thead>\n",
       "  <tbody>\n",
       "    <tr>\n",
       "      <th>D614G; BA.1; BA.2; BA.5; BA.2.75; BQ.1.1; XBB</th>\n",
       "      <td>1603</td>\n",
       "    </tr>\n",
       "    <tr>\n",
       "      <th>D614G; BA.1; BA.2; BA.5; BA.2.75</th>\n",
       "      <td>6</td>\n",
       "    </tr>\n",
       "    <tr>\n",
       "      <th>D614G; BA.1; BA.2; BA.5; BA.2.75; BQ.1.1</th>\n",
       "      <td>3</td>\n",
       "    </tr>\n",
       "    <tr>\n",
       "      <th>D614G; BA.1; BA.2; BA.5; BA.2.75; XBB</th>\n",
       "      <td>3</td>\n",
       "    </tr>\n",
       "    <tr>\n",
       "      <th>BQ.1.1; XBB</th>\n",
       "      <td>1</td>\n",
       "    </tr>\n",
       "  </tbody>\n",
       "</table>\n",
       "</div>"
      ],
      "text/plain": [
       "                                               n_antibodies\n",
       "viruses_w_IC50s                                            \n",
       "D614G; BA.1; BA.2; BA.5; BA.2.75; BQ.1.1; XBB          1603\n",
       "D614G; BA.1; BA.2; BA.5; BA.2.75                          6\n",
       "D614G; BA.1; BA.2; BA.5; BA.2.75; BQ.1.1                  3\n",
       "D614G; BA.1; BA.2; BA.5; BA.2.75; XBB                     3\n",
       "BQ.1.1; XBB                                               1"
      ]
     },
     "metadata": {},
     "output_type": "display_data"
    }
   ],
   "source": [
    "imprinted_2022_ic50s = (\n",
    "    imprinted_2022_info\n",
    "    .query(\"antibody in @source_filtered_abs\")\n",
    "    .melt(\n",
    "        id_vars=[\"study\", \"antibody\"],\n",
    "        value_vars=[\"D614G\", \"BA.1\", \"BA.2\", \"BA.5\", \"BA.2.75\", \"BQ.1.1\", \"XBB\"],\n",
    "        var_name=\"virus\",\n",
    "        value_name=\"IC50\",\n",
    "    )\n",
    "    # values of >10 to 10\n",
    "    .query(\"IC50 != '--'\")\n",
    "    .assign(IC50=lambda x: x[\"IC50\"].map(lambda ic50: 10 if ic50 == \">10\" else float(ic50)))\n",
    ")\n",
    "\n",
    "print(\"\\nNumber of IC50s per antibody:\")\n",
    "display(\n",
    "    imprinted_2022_ic50s\n",
    "    .groupby(\"antibody\", as_index=False)\n",
    "    .aggregate(viruses_w_IC50s=pd.NamedAgg(\"virus\", lambda s: \"; \".join(s)))\n",
    "    .groupby(\"viruses_w_IC50s\")\n",
    "    .aggregate(n_antibodies=pd.NamedAgg(\"antibody\", \"nunique\"))\n",
    "    .sort_values(\"n_antibodies\", ascending=False)\n",
    ")\n",
    "\n",
    "data = imprinted_2022_ic50s['antibody'].value_counts().reset_index()\n",
    "ic50_filtered_abs = data[data['antibody'] == 7]['index'].unique()"
   ]
  },
  {
   "cell_type": "code",
   "execution_count": 5,
   "id": "59ccb1cc",
   "metadata": {},
   "outputs": [
    {
     "name": "stdout",
     "output_type": "stream",
     "text": [
      "\n",
      "Number of antibodies with no neutralization on any retained virus:\n"
     ]
    },
    {
     "data": {
      "text/html": [
       "<div>\n",
       "<style scoped>\n",
       "    .dataframe tbody tr th:only-of-type {\n",
       "        vertical-align: middle;\n",
       "    }\n",
       "\n",
       "    .dataframe tbody tr th {\n",
       "        vertical-align: top;\n",
       "    }\n",
       "\n",
       "    .dataframe thead th {\n",
       "        text-align: right;\n",
       "    }\n",
       "</style>\n",
       "<table border=\"1\" class=\"dataframe\">\n",
       "  <thead>\n",
       "    <tr style=\"text-align: right;\">\n",
       "      <th></th>\n",
       "      <th>n_antibodies</th>\n",
       "    </tr>\n",
       "    <tr>\n",
       "      <th>non_neut</th>\n",
       "      <th></th>\n",
       "    </tr>\n",
       "  </thead>\n",
       "  <tbody>\n",
       "    <tr>\n",
       "      <th>True</th>\n",
       "      <td>439</td>\n",
       "    </tr>\n",
       "    <tr>\n",
       "      <th>False</th>\n",
       "      <td>1177</td>\n",
       "    </tr>\n",
       "  </tbody>\n",
       "</table>\n",
       "</div>"
      ],
      "text/plain": [
       "          n_antibodies\n",
       "non_neut              \n",
       "True               439\n",
       "False             1177"
      ]
     },
     "metadata": {},
     "output_type": "display_data"
    }
   ],
   "source": [
    "print(\"\\nNumber of antibodies with no neutralization on any retained virus:\")\n",
    "assert imprinted_2022_ic50s[\"IC50\"].dtype == float\n",
    "assert (imprinted_2022_ic50s[\"IC50\"] <= 10).all()\n",
    "display(\n",
    "    imprinted_2022_ic50s\n",
    "    .assign(non_neut=lambda x: x[\"IC50\"] == 10)\n",
    "    .groupby(\"antibody\", as_index=False)\n",
    "    .aggregate({\"non_neut\": \"all\"})\n",
    "    .groupby(\"non_neut\")\n",
    "    .aggregate(n_antibodies=pd.NamedAgg(\"antibody\", \"nunique\"))\n",
    "    .sort_index(ascending=False)\n",
    ")"
   ]
  },
  {
   "cell_type": "markdown",
   "id": "2038aabc",
   "metadata": {},
   "source": [
    "Get binding reactivities"
   ]
  },
  {
   "cell_type": "code",
   "execution_count": 6,
   "id": "f3068b3f-9ac2-4adf-92f9-4aa3d11090e8",
   "metadata": {
    "execution": {
     "iopub.execute_input": "2023-06-20T23:54:20.984986Z",
     "iopub.status.busy": "2023-06-20T23:54:20.984299Z",
     "iopub.status.idle": "2023-06-20T23:54:21.102811Z",
     "shell.execute_reply": "2023-06-20T23:54:21.102189Z"
    },
    "tags": []
   },
   "outputs": [
    {
     "name": "stdout",
     "output_type": "stream",
     "text": [
      "\n",
      "Binding targets per antibody:\n"
     ]
    },
    {
     "data": {
      "text/html": [
       "<div>\n",
       "<style scoped>\n",
       "    .dataframe tbody tr th:only-of-type {\n",
       "        vertical-align: middle;\n",
       "    }\n",
       "\n",
       "    .dataframe tbody tr th {\n",
       "        vertical-align: top;\n",
       "    }\n",
       "\n",
       "    .dataframe thead th {\n",
       "        text-align: right;\n",
       "    }\n",
       "</style>\n",
       "<table border=\"1\" class=\"dataframe\">\n",
       "  <thead>\n",
       "    <tr style=\"text-align: right;\">\n",
       "      <th></th>\n",
       "      <th>n_antibodies</th>\n",
       "    </tr>\n",
       "    <tr>\n",
       "      <th>binds</th>\n",
       "      <th></th>\n",
       "    </tr>\n",
       "  </thead>\n",
       "  <tbody>\n",
       "    <tr>\n",
       "      <th>Wuhan-Hu-1; Omicron BA.2/BA.5</th>\n",
       "      <td>1616</td>\n",
       "    </tr>\n",
       "  </tbody>\n",
       "</table>\n",
       "</div>"
      ],
      "text/plain": [
       "                               n_antibodies\n",
       "binds                                      \n",
       "Wuhan-Hu-1; Omicron BA.2/BA.5          1616"
      ]
     },
     "metadata": {},
     "output_type": "display_data"
    }
   ],
   "source": [
    "# get the binding reactivities\n",
    "imprinted_2022_binding = (\n",
    "    imprinted_2022_info\n",
    "    .query(\"antibody in @source_filtered_abs\")\n",
    "    .assign(\n",
    "        binds=lambda x: x[\"sheet_name\"].map(\n",
    "            {\n",
    "                \"cross\": [\"Wuhan-Hu-1\", \"Omicron BA.2/BA.5\"],\n",
    "                \"specific\": [\"Omicron BA.2/BA.5\"],\n",
    "            }\n",
    "        )\n",
    "    )\n",
    "    [[\"study\", \"antibody\", \"binds\"]]\n",
    "    .explode(\"binds\")\n",
    ")\n",
    "\n",
    "print(\"\\nBinding targets per antibody:\")\n",
    "display(\n",
    "    imprinted_2022_binding\n",
    "    .groupby(\"antibody\", as_index=False)\n",
    "    .aggregate(binds=pd.NamedAgg(\"binds\", lambda s: \"; \".join(s)))\n",
    "    .groupby(\"binds\")\n",
    "    .aggregate(n_antibodies=pd.NamedAgg(\"antibody\", \"nunique\"))\n",
    "    .sort_values(\"n_antibodies\", ascending=False)\n",
    ")"
   ]
  },
  {
   "cell_type": "markdown",
   "id": "552cbbe3",
   "metadata": {},
   "source": [
    "Make a list of antibodies passing all filters, then save the list to an output file"
   ]
  },
  {
   "cell_type": "code",
   "execution_count": 7,
   "id": "06df7b51",
   "metadata": {},
   "outputs": [
    {
     "name": "stdout",
     "output_type": "stream",
     "text": [
      "N antibodies passing all filters 1603\n"
     ]
    }
   ],
   "source": [
    "# Make a list of antibodies passing all filters\n",
    "abs_passing_filters = list(set.intersection(\n",
    "    set(abs_with_high_site_escape_scores),\n",
    "    set(source_filtered_abs),\n",
    "    set(ic50_filtered_abs)\n",
    "))\n",
    "print('N antibodies passing all filters', len(abs_passing_filters))\n",
    "\n",
    "output_f = os.path.join(resultsdir, 'abs_passing_filters.txt')\n",
    "with open(output_f, 'w') as f:\n",
    "    for ab in abs_passing_filters:\n",
    "        f.write(f'{ab}\\n')"
   ]
  },
  {
   "cell_type": "markdown",
   "id": "e1600244-34ad-4013-ba98-cede879266e2",
   "metadata": {},
   "source": [
    "Now read the raw DMS data with escape scores at the level of amino-acid mutations, and then use these data to compute escape scores at the level of sites."
   ]
  },
  {
   "cell_type": "code",
   "execution_count": 7,
   "id": "8ddc06a9-bf6a-43ff-8c70-b3ffc38d3364",
   "metadata": {
    "execution": {
     "iopub.execute_input": "2023-06-20T23:54:21.106077Z",
     "iopub.status.busy": "2023-06-20T23:54:21.105783Z",
     "iopub.status.idle": "2023-06-20T23:54:21.363832Z",
     "shell.execute_reply": "2023-06-20T23:54:21.362999Z"
    },
    "tags": []
   },
   "outputs": [
    {
     "name": "stdout",
     "output_type": "stream",
     "text": [
      "N antibodies passing all filters 1603\n"
     ]
    },
    {
     "data": {
      "text/html": [
       "<div>\n",
       "<style scoped>\n",
       "    .dataframe tbody tr th:only-of-type {\n",
       "        vertical-align: middle;\n",
       "    }\n",
       "\n",
       "    .dataframe tbody tr th {\n",
       "        vertical-align: top;\n",
       "    }\n",
       "\n",
       "    .dataframe thead th {\n",
       "        text-align: right;\n",
       "    }\n",
       "</style>\n",
       "<table border=\"1\" class=\"dataframe\">\n",
       "  <thead>\n",
       "    <tr style=\"text-align: right;\">\n",
       "      <th></th>\n",
       "      <th>antibody</th>\n",
       "      <th>site</th>\n",
       "      <th>escape</th>\n",
       "      <th>study</th>\n",
       "      <th>normalized_escape</th>\n",
       "    </tr>\n",
       "  </thead>\n",
       "  <tbody>\n",
       "    <tr>\n",
       "      <th>0</th>\n",
       "      <td>1-57</td>\n",
       "      <td>338</td>\n",
       "      <td>0.521154</td>\n",
       "      <td>imprinted_2022</td>\n",
       "      <td>0.060839</td>\n",
       "    </tr>\n",
       "    <tr>\n",
       "      <th>1</th>\n",
       "      <td>1-57</td>\n",
       "      <td>359</td>\n",
       "      <td>0.140217</td>\n",
       "      <td>imprinted_2022</td>\n",
       "      <td>0.016369</td>\n",
       "    </tr>\n",
       "    <tr>\n",
       "      <th>2</th>\n",
       "      <td>1-57</td>\n",
       "      <td>370</td>\n",
       "      <td>0.285110</td>\n",
       "      <td>imprinted_2022</td>\n",
       "      <td>0.033284</td>\n",
       "    </tr>\n",
       "    <tr>\n",
       "      <th>3</th>\n",
       "      <td>1-57</td>\n",
       "      <td>394</td>\n",
       "      <td>0.112732</td>\n",
       "      <td>imprinted_2022</td>\n",
       "      <td>0.013160</td>\n",
       "    </tr>\n",
       "    <tr>\n",
       "      <th>4</th>\n",
       "      <td>1-57</td>\n",
       "      <td>396</td>\n",
       "      <td>0.194379</td>\n",
       "      <td>imprinted_2022</td>\n",
       "      <td>0.022692</td>\n",
       "    </tr>\n",
       "    <tr>\n",
       "      <th>...</th>\n",
       "      <td>...</td>\n",
       "      <td>...</td>\n",
       "      <td>...</td>\n",
       "      <td>...</td>\n",
       "      <td>...</td>\n",
       "    </tr>\n",
       "    <tr>\n",
       "      <th>33256</th>\n",
       "      <td>XGv-422</td>\n",
       "      <td>465</td>\n",
       "      <td>0.769640</td>\n",
       "      <td>imprinted_2022</td>\n",
       "      <td>0.229740</td>\n",
       "    </tr>\n",
       "    <tr>\n",
       "      <th>33257</th>\n",
       "      <td>XGv-422</td>\n",
       "      <td>466</td>\n",
       "      <td>0.886558</td>\n",
       "      <td>imprinted_2022</td>\n",
       "      <td>0.264641</td>\n",
       "    </tr>\n",
       "    <tr>\n",
       "      <th>33258</th>\n",
       "      <td>XGv-422</td>\n",
       "      <td>468</td>\n",
       "      <td>0.313522</td>\n",
       "      <td>imprinted_2022</td>\n",
       "      <td>0.093587</td>\n",
       "    </tr>\n",
       "    <tr>\n",
       "      <th>33259</th>\n",
       "      <td>XGv-422</td>\n",
       "      <td>484</td>\n",
       "      <td>0.165163</td>\n",
       "      <td>imprinted_2022</td>\n",
       "      <td>0.049302</td>\n",
       "    </tr>\n",
       "    <tr>\n",
       "      <th>33260</th>\n",
       "      <td>XGv-422</td>\n",
       "      <td>514</td>\n",
       "      <td>0.224545</td>\n",
       "      <td>imprinted_2022</td>\n",
       "      <td>0.067027</td>\n",
       "    </tr>\n",
       "  </tbody>\n",
       "</table>\n",
       "<p>33261 rows × 5 columns</p>\n",
       "</div>"
      ],
      "text/plain": [
       "      antibody  site    escape           study  normalized_escape\n",
       "0         1-57   338  0.521154  imprinted_2022           0.060839\n",
       "1         1-57   359  0.140217  imprinted_2022           0.016369\n",
       "2         1-57   370  0.285110  imprinted_2022           0.033284\n",
       "3         1-57   394  0.112732  imprinted_2022           0.013160\n",
       "4         1-57   396  0.194379  imprinted_2022           0.022692\n",
       "...        ...   ...       ...             ...                ...\n",
       "33256  XGv-422   465  0.769640  imprinted_2022           0.229740\n",
       "33257  XGv-422   466  0.886558  imprinted_2022           0.264641\n",
       "33258  XGv-422   468  0.313522  imprinted_2022           0.093587\n",
       "33259  XGv-422   484  0.165163  imprinted_2022           0.049302\n",
       "33260  XGv-422   514  0.224545  imprinted_2022           0.067027\n",
       "\n",
       "[33261 rows x 5 columns]"
      ]
     },
     "execution_count": 7,
     "metadata": {},
     "output_type": "execute_result"
    }
   ],
   "source": [
    "imprinted_2022_escape = (\n",
    "    dms_df\n",
    "    .query(\"antibody in @abs_passing_filters\")\n",
    "    .groupby([\"antibody\", \"site\"], as_index=False)\n",
    "    .aggregate(escape=pd.NamedAgg(\"mut_escape\", \"sum\"))\n",
    "    .assign(study=\"imprinted_2022\")\n",
    "    .assign(\n",
    "        normalized_escape=lambda x: (\n",
    "            x[\"escape\"] / x.groupby([\"antibody\", \"study\"])[\"escape\"].transform(\"max\")\n",
    "        )\n",
    "    )\n",
    ")\n",
    "\n",
    "imprinted_2022_escape"
   ]
  },
  {
   "cell_type": "markdown",
   "id": "53d819e5",
   "metadata": {},
   "source": [
    "Show the number of sites per antibody DMS that pass a given escape-score threshold. We do not filter on this since there aren't many antibodies that would be filtered out (using the Bloom lab threshold filtering out antibodies with >40 sites in the below plot)"
   ]
  },
  {
   "cell_type": "code",
   "execution_count": 8,
   "id": "5d635dd6",
   "metadata": {},
   "outputs": [
    {
     "data": {
      "image/png": "[encoded data removed]",
      "text/plain": [
       "<Figure size 300x200 with 1 Axes>"
      ]
     },
     "metadata": {},
     "output_type": "display_data"
    }
   ],
   "source": [
    "sig_escape_threshold = 0.1\n",
    "n_sig_escape = (\n",
    "    imprinted_2022_escape\n",
    "    .query(\"escape >= @sig_escape_threshold\")\n",
    "    .groupby([\"antibody\", \"study\"], as_index=False)\n",
    "    .aggregate(n_sites=pd.NamedAgg(\"site\", \"nunique\"))\n",
    ")\n",
    "plt.figure(figsize=[3,2])\n",
    "sns.histplot(x='n_sites', data=n_sig_escape)\n",
    "sns.despine()\n",
    "plt.show()"
   ]
  },
  {
   "cell_type": "markdown",
   "id": "1311412f",
   "metadata": {},
   "source": [
    "Save curated data to output files, only for antibodies that passed the above filters"
   ]
  },
  {
   "cell_type": "code",
   "execution_count": 9,
   "id": "81f07a56",
   "metadata": {},
   "outputs": [],
   "source": [
    "# Save site-level escape scores\n",
    "imprinted_2022_escape[\n",
    "    imprinted_2022_escape['antibody'].isin(abs_passing_filters)\n",
    "].to_csv(os.path.join(resultsdir, 'escape.csv'), index=False)\n",
    "\n",
    "# Save data on antibody sources\n",
    "imprinted_2022_source[\n",
    "    imprinted_2022_source['antibody'].isin(abs_passing_filters)\n",
    "].to_csv(os.path.join(resultsdir, 'antibody_sources.csv'), index=False)\n",
    "\n",
    "# Save data on IC50s\n",
    "imprinted_2022_ic50s[\n",
    "    imprinted_2022_ic50s['antibody'].isin(abs_passing_filters)\n",
    "].to_csv(os.path.join(resultsdir, 'antibody_IC50s.csv'), index=False)"
   ]
  },
  {
   "cell_type": "markdown",
   "id": "60304e4c",
   "metadata": {},
   "source": [
    "Analyze the distribution of site-escape scores"
   ]
  },
  {
   "cell_type": "code",
   "execution_count": 15,
   "id": "fa5d193d-0598-414f-8641-eba126a2fa6f",
   "metadata": {},
   "outputs": [
    {
     "data": {
      "image/png": "[encoded data removed]",
      "text/plain": [
       "<Figure size 400x300 with 1 Axes>"
      ]
     },
     "metadata": {},
     "output_type": "display_data"
    }
   ],
   "source": [
    "data = imprinted_2022_escape.copy()\n",
    "data['log_escape'] = np.log10(data['escape'])\n",
    "plt.figure(figsize=[4,3])\n",
    "sns.histplot(x='log_escape', data=data)\n",
    "sns.despine()\n",
    "plt.show()"
   ]
  },
  {
   "cell_type": "code",
   "execution_count": null,
   "id": "6e5b9eef",
   "metadata": {},
   "outputs": [],
   "source": []
  }
 ],
 "metadata": {
  "kernelspec": {
   "display_name": "ncov-ab-escape",
   "language": "python",
   "name": "python3"
  },
  "language_info": {
   "codemirror_mode": {
    "name": "ipython",
    "version": 3
   },
   "file_extension": ".py",
   "mimetype": "text/x-python",
   "name": "python",
   "nbconvert_exporter": "python",
   "pygments_lexer": "ipython3",
   "version": "3.11.10"
  }
 },
 "nbformat": 4,
 "nbformat_minor": 5
}
