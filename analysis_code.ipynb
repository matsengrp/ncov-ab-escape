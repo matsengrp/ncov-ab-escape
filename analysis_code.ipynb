{
 "cells": [
  {
   "attachments": {},
   "cell_type": "markdown",
   "metadata": {},
   "source": [
    "# Analyze antibody escape over time"
   ]
  },
  {
   "attachments": {},
   "cell_type": "markdown",
   "metadata": {},
   "source": [
    "## Import Python modules"
   ]
  },
  {
   "cell_type": "code",
   "execution_count": 6,
   "metadata": {},
   "outputs": [],
   "source": [
    "import pandas as pd"
   ]
  },
  {
   "attachments": {},
   "cell_type": "markdown",
   "metadata": {},
   "source": [
    "## Read in data that predicts how much each virus has escaped each antibody"
   ]
  },
  {
   "cell_type": "code",
   "execution_count": 4,
   "metadata": {},
   "outputs": [
    {
     "data": {
      "text/html": [
       "<div>\n",
       "<style scoped>\n",
       "    .dataframe tbody tr th:only-of-type {\n",
       "        vertical-align: middle;\n",
       "    }\n",
       "\n",
       "    .dataframe tbody tr th {\n",
       "        vertical-align: top;\n",
       "    }\n",
       "\n",
       "    .dataframe thead th {\n",
       "        text-align: right;\n",
       "    }\n",
       "</style>\n",
       "<table border=\"1\" class=\"dataframe\">\n",
       "  <thead>\n",
       "    <tr style=\"text-align: right;\">\n",
       "      <th></th>\n",
       "      <th>strain</th>\n",
       "      <th>seq</th>\n",
       "      <th>aa_substitutions</th>\n",
       "      <th>additive</th>\n",
       "    </tr>\n",
       "  </thead>\n",
       "  <tbody>\n",
       "    <tr>\n",
       "      <th>0</th>\n",
       "      <td>NODE_0000001</td>\n",
       "      <td>MFVFLVLLPLVSSQCVNLTTRTQLPPAYTNSFTRGVYYPDKVFRSS...</td>\n",
       "      <td>D339G L371S P373S F375S N417K K440N S446G N477...</td>\n",
       "      <td>0.137017</td>\n",
       "    </tr>\n",
       "    <tr>\n",
       "      <th>1</th>\n",
       "      <td>Wuhan-Hu-1/2019</td>\n",
       "      <td>MFVFLVLLPLVSSQCVNLTTRTQLPPAYTNSFTRGVYYPDKVFRSS...</td>\n",
       "      <td>D339G L371S P373S F375S N417K K440N S446G N477...</td>\n",
       "      <td>0.137017</td>\n",
       "    </tr>\n",
       "    <tr>\n",
       "      <th>2</th>\n",
       "      <td>NODE_0000000</td>\n",
       "      <td>MFVFLVLLPLVSSQCVNLTTRTQLPPAYTNSFTRGVYYPDKVFRSS...</td>\n",
       "      <td>D339G L371S P373S F375S N417K K440N S446G N477...</td>\n",
       "      <td>0.137017</td>\n",
       "    </tr>\n",
       "    <tr>\n",
       "      <th>3</th>\n",
       "      <td>NPL/61-TW/2020</td>\n",
       "      <td>MFVFLVLLPLVSSQCVNLTTRTQLPPAYTNSFTRGVYYPDKVFRSS...</td>\n",
       "      <td>D339G L371S P373S F375S N417K K440N S446G N477...</td>\n",
       "      <td>0.137017</td>\n",
       "    </tr>\n",
       "    <tr>\n",
       "      <th>4</th>\n",
       "      <td>NODE_0000206</td>\n",
       "      <td>MFVFLVLLPLVSSQCVNLTTRTQLPPAYTNSFTRGVYYPDKVFRSS...</td>\n",
       "      <td>D339G L371S P373S F375S N417K K440N S446G N477...</td>\n",
       "      <td>0.137017</td>\n",
       "    </tr>\n",
       "  </tbody>\n",
       "</table>\n",
       "</div>"
      ],
      "text/plain": [
       "            strain                                                seq  \\\n",
       "0     NODE_0000001  MFVFLVLLPLVSSQCVNLTTRTQLPPAYTNSFTRGVYYPDKVFRSS...   \n",
       "1  Wuhan-Hu-1/2019  MFVFLVLLPLVSSQCVNLTTRTQLPPAYTNSFTRGVYYPDKVFRSS...   \n",
       "2     NODE_0000000  MFVFLVLLPLVSSQCVNLTTRTQLPPAYTNSFTRGVYYPDKVFRSS...   \n",
       "3   NPL/61-TW/2020  MFVFLVLLPLVSSQCVNLTTRTQLPPAYTNSFTRGVYYPDKVFRSS...   \n",
       "4     NODE_0000206  MFVFLVLLPLVSSQCVNLTTRTQLPPAYTNSFTRGVYYPDKVFRSS...   \n",
       "\n",
       "                                    aa_substitutions  additive  \n",
       "0  D339G L371S P373S F375S N417K K440N S446G N477...  0.137017  \n",
       "1  D339G L371S P373S F375S N417K K440N S446G N477...  0.137017  \n",
       "2  D339G L371S P373S F375S N417K K440N S446G N477...  0.137017  \n",
       "3  D339G L371S P373S F375S N417K K440N S446G N477...  0.137017  \n",
       "4  D339G L371S P373S F375S N417K K440N S446G N477...  0.137017  "
      ]
     },
     "execution_count": 4,
     "metadata": {},
     "output_type": "execute_result"
    }
   ],
   "source": [
    "escape_df = pd.read_csv('data/ncov_escape_scores/LY-CoV1404-BA1_escape_score_variant_escape_prediction.csv')\n",
    "escape_df.head()"
   ]
  },
  {
   "attachments": {},
   "cell_type": "markdown",
   "metadata": {},
   "source": [
    "## Analyze escape over time"
   ]
  },
  {
   "attachments": {},
   "cell_type": "markdown",
   "metadata": {},
   "source": [
    "Define our sliding windows"
   ]
  },
  {
   "cell_type": "code",
   "execution_count": 10,
   "metadata": {},
   "outputs": [],
   "source": [
    "# Define parameters for windows\n",
    "start_time = 0\n",
    "end_time = 3\n",
    "window_width = 0.1\n",
    "window_step_size = 0.05\n",
    "\n",
    "# To start, we set the left side of our window at a value\n",
    "# of zero\n",
    "left_side_of_window = 0\n",
    "\n",
    "# We're going to define all windows one at a time\n",
    "# based on the step size and width\n",
    "list_of_left_sides_of_windows = []\n",
    "while left_side_of_window < end_time:\n",
    "    \n",
    "    # Append the window value to the list\n",
    "    list_of_left_sides_of_windows.append(left_side_of_window)\n",
    "    #print(left_side_of_window, left_side_of_window+window_width)\n",
    "\n",
    "    # Slide the window to the right by one step\n",
    "    left_side_of_window = left_side_of_window + window_step_size"
   ]
  },
  {
   "attachments": {},
   "cell_type": "markdown",
   "metadata": {},
   "source": [
    "For each window, get the viruses in that window and then compute the average escape for a given antibody."
   ]
  },
  {
   "cell_type": "code",
   "execution_count": null,
   "metadata": {},
   "outputs": [],
   "source": []
  },
  {
   "cell_type": "code",
   "execution_count": null,
   "metadata": {},
   "outputs": [],
   "source": []
  },
  {
   "cell_type": "code",
   "execution_count": null,
   "metadata": {},
   "outputs": [],
   "source": []
  },
  {
   "attachments": {},
   "cell_type": "markdown",
   "metadata": {},
   "source": []
  }
 ],
 "metadata": {
  "kernelspec": {
   "display_name": "ncov-ab-escape",
   "language": "python",
   "name": "python3"
  },
  "language_info": {
   "codemirror_mode": {
    "name": "ipython",
    "version": 3
   },
   "file_extension": ".py",
   "mimetype": "text/x-python",
   "name": "python",
   "nbconvert_exporter": "python",
   "pygments_lexer": "ipython3",
   "version": "3.11.3"
  },
  "orig_nbformat": 4
 },
 "nbformat": 4,
 "nbformat_minor": 2
}
