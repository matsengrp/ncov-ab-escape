{
 "cells": [
  {
   "cell_type": "markdown",
   "id": "418c13c6",
   "metadata": {},
   "source": [
    "# Analyze predicted escape from the 3K antibodies"
   ]
  },
  {
   "cell_type": "markdown",
   "id": "36852c0f",
   "metadata": {},
   "source": [
    "## Import `Python` modules"
   ]
  },
  {
   "cell_type": "code",
   "execution_count": 2,
   "id": "b67ee095",
   "metadata": {},
   "outputs": [],
   "source": [
    "import os\n",
    "import glob\n",
    "import pandas as pd\n",
    "import matplotlib\n",
    "import matplotlib.pyplot as plt\n",
    "%matplotlib inline\n",
    "import seaborn as sns"
   ]
  },
  {
   "cell_type": "markdown",
   "id": "7ed11090",
   "metadata": {},
   "source": [
    "## Read in data that predicts how much each virus has escaped each antibody"
   ]
  },
  {
   "cell_type": "code",
   "execution_count": 3,
   "id": "9019002e",
   "metadata": {},
   "outputs": [
    {
     "data": {
      "text/html": [
       "<div>\n",
       "<style scoped>\n",
       "    .dataframe tbody tr th:only-of-type {\n",
       "        vertical-align: middle;\n",
       "    }\n",
       "\n",
       "    .dataframe tbody tr th {\n",
       "        vertical-align: top;\n",
       "    }\n",
       "\n",
       "    .dataframe thead th {\n",
       "        text-align: right;\n",
       "    }\n",
       "</style>\n",
       "<table border=\"1\" class=\"dataframe\">\n",
       "  <thead>\n",
       "    <tr style=\"text-align: right;\">\n",
       "      <th></th>\n",
       "      <th>strain</th>\n",
       "      <th>aa_substitutions</th>\n",
       "      <th>escape_score</th>\n",
       "      <th>antibody</th>\n",
       "      <th>group</th>\n",
       "      <th>date</th>\n",
       "      <th>Nextstrain_clade</th>\n",
       "      <th>time</th>\n",
       "    </tr>\n",
       "  </thead>\n",
       "  <tbody>\n",
       "    <tr>\n",
       "      <th>0</th>\n",
       "      <td>ON641975.1</td>\n",
       "      <td>NaN</td>\n",
       "      <td>0.000000</td>\n",
       "      <td>BD55-6049</td>\n",
       "      <td>E3</td>\n",
       "      <td>2022-01-08</td>\n",
       "      <td>?</td>\n",
       "      <td>2.038356</td>\n",
       "    </tr>\n",
       "    <tr>\n",
       "      <th>1</th>\n",
       "      <td>ON641975.1</td>\n",
       "      <td>G446S N501Y</td>\n",
       "      <td>0.020197</td>\n",
       "      <td>BD56-965</td>\n",
       "      <td>B</td>\n",
       "      <td>2022-01-08</td>\n",
       "      <td>?</td>\n",
       "      <td>2.038356</td>\n",
       "    </tr>\n",
       "    <tr>\n",
       "      <th>2</th>\n",
       "      <td>ON641975.1</td>\n",
       "      <td>NaN</td>\n",
       "      <td>0.000000</td>\n",
       "      <td>XGv-318</td>\n",
       "      <td>F1</td>\n",
       "      <td>2022-01-08</td>\n",
       "      <td>?</td>\n",
       "      <td>2.038356</td>\n",
       "    </tr>\n",
       "    <tr>\n",
       "      <th>3</th>\n",
       "      <td>ON641975.1</td>\n",
       "      <td>NaN</td>\n",
       "      <td>0.000000</td>\n",
       "      <td>BD55-5687</td>\n",
       "      <td>E3</td>\n",
       "      <td>2022-01-08</td>\n",
       "      <td>?</td>\n",
       "      <td>2.038356</td>\n",
       "    </tr>\n",
       "    <tr>\n",
       "      <th>4</th>\n",
       "      <td>ON641975.1</td>\n",
       "      <td>E484A</td>\n",
       "      <td>0.005702</td>\n",
       "      <td>XGv-214</td>\n",
       "      <td>E2.1</td>\n",
       "      <td>2022-01-08</td>\n",
       "      <td>?</td>\n",
       "      <td>2.038356</td>\n",
       "    </tr>\n",
       "  </tbody>\n",
       "</table>\n",
       "</div>"
      ],
      "text/plain": [
       "       strain aa_substitutions  escape_score   antibody group        date  \\\n",
       "0  ON641975.1              NaN      0.000000  BD55-6049    E3  2022-01-08   \n",
       "1  ON641975.1      G446S N501Y      0.020197   BD56-965     B  2022-01-08   \n",
       "2  ON641975.1              NaN      0.000000    XGv-318    F1  2022-01-08   \n",
       "3  ON641975.1              NaN      0.000000  BD55-5687    E3  2022-01-08   \n",
       "4  ON641975.1            E484A      0.005702    XGv-214  E2.1  2022-01-08   \n",
       "\n",
       "  Nextstrain_clade      time  \n",
       "0                ?  2.038356  \n",
       "1                ?  2.038356  \n",
       "2                ?  2.038356  \n",
       "3                ?  2.038356  \n",
       "4                ?  2.038356  "
      ]
     },
     "execution_count": 3,
     "metadata": {},
     "output_type": "execute_result"
    }
   ],
   "source": [
    "f = '/fh/fast/matsen_e/shared/dmsa-pred/ncov-dmsa/results/cao_predictions/imprinted_2022_abs/all_predictions.csv'\n",
    "escape_df = pd.read_csv(f)\n",
    "escape_df.head()"
   ]
  },
  {
   "cell_type": "markdown",
   "id": "7e1505d4",
   "metadata": {},
   "source": [
    "## Get a feel for the data"
   ]
  },
  {
   "cell_type": "markdown",
   "id": "49e32cd0",
   "metadata": {},
   "source": [
    "How many antibodies are in the dataset?"
   ]
  },
  {
   "cell_type": "code",
   "execution_count": null,
   "id": "7a22530b",
   "metadata": {},
   "outputs": [],
   "source": []
  },
  {
   "cell_type": "markdown",
   "id": "e5456b74",
   "metadata": {},
   "source": [
    "How many viruses are in the dataset?"
   ]
  },
  {
   "cell_type": "code",
   "execution_count": null,
   "id": "b2677c3e",
   "metadata": {},
   "outputs": [],
   "source": []
  },
  {
   "cell_type": "markdown",
   "id": "76166d28",
   "metadata": {},
   "source": [
    "How many different antibody groups are there?"
   ]
  },
  {
   "cell_type": "code",
   "execution_count": null,
   "id": "be5166fd",
   "metadata": {},
   "outputs": [],
   "source": []
  },
  {
   "cell_type": "markdown",
   "id": "d92e67c5",
   "metadata": {},
   "source": [
    "## Analyze escape\n",
    "\n",
    "* How many antibodies have been escaped? To answer this, we can plot the average escape score of all viruses from the past 6 months\n",
    "* How has average escape changed over time? To answer this, we can plot average escape over time. This is a lot of curves to plot. We've come up with a few ideas for \n",
    "    * making ~30 plots each with 100 curves\n",
    "    * plotting data separately for different groups\n",
    "    * \n",
    "* Can we group antibodies by their escape patterns?"
   ]
  },
  {
   "cell_type": "code",
   "execution_count": null,
   "id": "ca9e9175",
   "metadata": {},
   "outputs": [],
   "source": []
  },
  {
   "cell_type": "code",
   "execution_count": null,
   "id": "d4e25d86",
   "metadata": {},
   "outputs": [],
   "source": []
  }
 ],
 "metadata": {
  "kernelspec": {
   "display_name": "Python 3 (ipykernel)",
   "language": "python",
   "name": "python3"
  },
  "language_info": {
   "codemirror_mode": {
    "name": "ipython",
    "version": 3
   },
   "file_extension": ".py",
   "mimetype": "text/x-python",
   "name": "python",
   "nbconvert_exporter": "python",
   "pygments_lexer": "ipython3",
   "version": "3.9.16"
  }
 },
 "nbformat": 4,
 "nbformat_minor": 5
}
