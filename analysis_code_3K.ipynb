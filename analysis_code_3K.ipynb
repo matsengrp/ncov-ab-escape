{
 "cells": [
  {
   "cell_type": "markdown",
   "id": "af715eaf",
   "metadata": {},
   "source": [
    "# Analyze predicted escape from the 3K antibodies"
   ]
  },
  {
   "cell_type": "markdown",
   "id": "fc8c52f2",
   "metadata": {},
   "source": [
    "## Import `Python` modules"
   ]
  },
  {
   "cell_type": "code",
   "execution_count": 1,
   "id": "3eec6ac9",
   "metadata": {},
   "outputs": [],
   "source": [
    "import os\n",
    "import glob\n",
    "import pandas as pd\n",
    "import matplotlib\n",
    "import matplotlib.pyplot as plt\n",
    "%matplotlib inline\n",
    "import seaborn as sns"
   ]
  },
  {
   "cell_type": "markdown",
   "id": "32de8330",
   "metadata": {},
   "source": [
    "## Read in data that predicts how much each virus has escaped each antibody"
   ]
  },
  {
   "cell_type": "markdown",
   "id": "082cb7e9",
   "metadata": {},
   "source": [
    "Read in data"
   ]
  },
  {
   "cell_type": "code",
   "execution_count": 2,
   "id": "d1325403",
   "metadata": {},
   "outputs": [
    {
     "data": {
      "text/html": [
       "<div>\n",
       "<style scoped>\n",
       "    .dataframe tbody tr th:only-of-type {\n",
       "        vertical-align: middle;\n",
       "    }\n",
       "\n",
       "    .dataframe tbody tr th {\n",
       "        vertical-align: top;\n",
       "    }\n",
       "\n",
       "    .dataframe thead th {\n",
       "        text-align: right;\n",
       "    }\n",
       "</style>\n",
       "<table border=\"1\" class=\"dataframe\">\n",
       "  <thead>\n",
       "    <tr style=\"text-align: right;\">\n",
       "      <th></th>\n",
       "      <th>strain</th>\n",
       "      <th>aa_substitutions</th>\n",
       "      <th>escape_score</th>\n",
       "      <th>antibody</th>\n",
       "      <th>ab_group</th>\n",
       "      <th>date</th>\n",
       "      <th>Nextstrain_clade</th>\n",
       "      <th>time</th>\n",
       "    </tr>\n",
       "  </thead>\n",
       "  <tbody>\n",
       "    <tr>\n",
       "      <th>0</th>\n",
       "      <td>ON641975.1</td>\n",
       "      <td>NaN</td>\n",
       "      <td>0.000000</td>\n",
       "      <td>BD55-6049</td>\n",
       "      <td>E3</td>\n",
       "      <td>2022-01-08</td>\n",
       "      <td>?</td>\n",
       "      <td>2.038356</td>\n",
       "    </tr>\n",
       "    <tr>\n",
       "      <th>1</th>\n",
       "      <td>ON641975.1</td>\n",
       "      <td>G446S N501Y</td>\n",
       "      <td>0.020197</td>\n",
       "      <td>BD56-965</td>\n",
       "      <td>B</td>\n",
       "      <td>2022-01-08</td>\n",
       "      <td>?</td>\n",
       "      <td>2.038356</td>\n",
       "    </tr>\n",
       "    <tr>\n",
       "      <th>2</th>\n",
       "      <td>ON641975.1</td>\n",
       "      <td>NaN</td>\n",
       "      <td>0.000000</td>\n",
       "      <td>XGv-318</td>\n",
       "      <td>F1</td>\n",
       "      <td>2022-01-08</td>\n",
       "      <td>?</td>\n",
       "      <td>2.038356</td>\n",
       "    </tr>\n",
       "    <tr>\n",
       "      <th>3</th>\n",
       "      <td>ON641975.1</td>\n",
       "      <td>NaN</td>\n",
       "      <td>0.000000</td>\n",
       "      <td>BD55-5687</td>\n",
       "      <td>E3</td>\n",
       "      <td>2022-01-08</td>\n",
       "      <td>?</td>\n",
       "      <td>2.038356</td>\n",
       "    </tr>\n",
       "    <tr>\n",
       "      <th>4</th>\n",
       "      <td>ON641975.1</td>\n",
       "      <td>E484A</td>\n",
       "      <td>0.005702</td>\n",
       "      <td>XGv-214</td>\n",
       "      <td>E2.1</td>\n",
       "      <td>2022-01-08</td>\n",
       "      <td>?</td>\n",
       "      <td>2.038356</td>\n",
       "    </tr>\n",
       "  </tbody>\n",
       "</table>\n",
       "</div>"
      ],
      "text/plain": [
       "       strain aa_substitutions  escape_score   antibody ab_group        date  \\\n",
       "0  ON641975.1              NaN      0.000000  BD55-6049       E3  2022-01-08   \n",
       "1  ON641975.1      G446S N501Y      0.020197   BD56-965        B  2022-01-08   \n",
       "2  ON641975.1              NaN      0.000000    XGv-318       F1  2022-01-08   \n",
       "3  ON641975.1              NaN      0.000000  BD55-5687       E3  2022-01-08   \n",
       "4  ON641975.1            E484A      0.005702    XGv-214     E2.1  2022-01-08   \n",
       "\n",
       "  Nextstrain_clade      time  \n",
       "0                ?  2.038356  \n",
       "1                ?  2.038356  \n",
       "2                ?  2.038356  \n",
       "3                ?  2.038356  \n",
       "4                ?  2.038356  "
      ]
     },
     "execution_count": 2,
     "metadata": {},
     "output_type": "execute_result"
    }
   ],
   "source": [
    "f = '/fh/fast/matsen_e/shared/dmsa-pred/ncov-dmsa/results/cao_predictions/imprinted_2022_abs/all_predictions.csv'\n",
    "escape_df = pd.read_csv(f)\n",
    "escape_df.rename(columns={'group':'ab_group'}, inplace=True)\n",
    "escape_df.head()"
   ]
  },
  {
   "cell_type": "markdown",
   "id": "f5e9731d",
   "metadata": {},
   "source": [
    "We can use expressions like this to get a list of True/False values."
   ]
  },
  {
   "cell_type": "code",
   "execution_count": 3,
   "id": "01696984",
   "metadata": {},
   "outputs": [
    {
     "data": {
      "text/plain": [
       "0          False\n",
       "1          False\n",
       "2          False\n",
       "3          False\n",
       "4          False\n",
       "           ...  \n",
       "8283991     True\n",
       "8283992     True\n",
       "8283993     True\n",
       "8283994     True\n",
       "8283995     True\n",
       "Name: time, Length: 8283996, dtype: bool"
      ]
     },
     "execution_count": 3,
     "metadata": {},
     "output_type": "execute_result"
    }
   ],
   "source": [
    "escape_df['time'] > 2.5"
   ]
  },
  {
   "cell_type": "markdown",
   "id": "d700d2da",
   "metadata": {},
   "source": [
    "First, we're interested in quantifying escape of viruses from antibodies in the last 6 months of the pandemic. To do this, we'll first get data for viruses from the past 6 months."
   ]
  },
  {
   "cell_type": "code",
   "execution_count": 4,
   "id": "4a476453",
   "metadata": {},
   "outputs": [],
   "source": [
    "# Get data for all viruses after timepoint 2.5\n",
    "recent_data = escape_df[escape_df['time'] > 2.5].copy()"
   ]
  },
  {
   "cell_type": "markdown",
   "id": "7b58df44",
   "metadata": {},
   "source": [
    "Next, we will group the data by the antibody group. For each group, we will compute the average escape of all viruses from antibodies in that group."
   ]
  },
  {
   "cell_type": "code",
   "execution_count": 5,
   "id": "a75da733",
   "metadata": {},
   "outputs": [
    {
     "data": {
      "text/plain": [
       "ab_group\n",
       "A       0.881115\n",
       "B       0.987711\n",
       "C       1.178977\n",
       "D1      1.016631\n",
       "D2      0.676643\n",
       "E1      0.903543\n",
       "E2.1    0.528774\n",
       "E2.2    0.223863\n",
       "E3      0.071949\n",
       "F1      0.086086\n",
       "F2      0.544468\n",
       "F3      0.855212\n",
       "Name: escape_score, dtype: float64"
      ]
     },
     "execution_count": 5,
     "metadata": {},
     "output_type": "execute_result"
    }
   ],
   "source": [
    "avg_escape_data = recent_data.groupby('ab_group')['escape_score'].mean(numeric_only=True)\n",
    "avg_escape_data"
   ]
  },
  {
   "cell_type": "markdown",
   "id": "d8ebe30d",
   "metadata": {},
   "source": [
    "**Observations**\n",
    "* Many of the antibody groups have high average escape scores, some have mediocre escape scores\n",
    "* What could explain this pattern? One idea is that the epitopes with low escape scores are non-neutralizing."
   ]
  },
  {
   "cell_type": "markdown",
   "id": "f528f3a1",
   "metadata": {},
   "source": [
    "Next, we'll plot the above results as a histogram"
   ]
  },
  {
   "cell_type": "code",
   "execution_count": 15,
   "id": "df68e5b8",
   "metadata": {},
   "outputs": [
    {
     "data": {
      "image/png": "[encoded data removed]",
      "text/plain": [
       "<Figure size 800x400 with 1 Axes>"
      ]
     },
     "metadata": {},
     "output_type": "display_data"
    }
   ],
   "source": [
    "avg_escape_data = recent_data.groupby('ab_group').mean(numeric_only=True)\n",
    "avg_escape_data.reset_index(inplace=True)\n",
    "plt.figure(figsize=[8,4])\n",
    "sns.barplot(y='escape_score', x='ab_group', data=avg_escape_data)\n",
    "plt.title('average escape among viruses from past 6 months')\n",
    "plt.xlabel('antibody group')\n",
    "plt.ylabel('average escape score')\n",
    "sns.despine()\n",
    "plt.show()"
   ]
  },
  {
   "cell_type": "markdown",
   "id": "e29245af",
   "metadata": {},
   "source": [
    "Next, for each antibody group, we'll plot escape over time. To do this, we'll need to implement our sliding-window approach from before."
   ]
  },
  {
   "cell_type": "code",
   "execution_count": 10,
   "id": "2dffad2c",
   "metadata": {},
   "outputs": [],
   "source": [
    "for (ab_group, ab_group_df) in escape_df.groupby('ab_group'):\n",
    "    break"
   ]
  },
  {
   "cell_type": "code",
   "execution_count": 14,
   "id": "c929f4a8",
   "metadata": {},
   "outputs": [
    {
     "name": "stdout",
     "output_type": "stream",
     "text": [
      "A\n"
     ]
    }
   ],
   "source": [
    "print(ab_group)"
   ]
  },
  {
   "cell_type": "code",
   "execution_count": 13,
   "id": "c5197f5c",
   "metadata": {},
   "outputs": [
    {
     "name": "stderr",
     "output_type": "stream",
     "text": [
      "/tmp/ipykernel_23616/3923067958.py:1: FutureWarning: The default value of numeric_only in DataFrameGroupBy.mean is deprecated. In a future version, numeric_only will default to False. Either specify numeric_only or select only columns which should be valid for the function.\n",
      "  ab_group_df.groupby('time').mean()\n"
     ]
    },
    {
     "data": {
      "text/html": [
       "<div>\n",
       "<style scoped>\n",
       "    .dataframe tbody tr th:only-of-type {\n",
       "        vertical-align: middle;\n",
       "    }\n",
       "\n",
       "    .dataframe tbody tr th {\n",
       "        vertical-align: top;\n",
       "    }\n",
       "\n",
       "    .dataframe thead th {\n",
       "        text-align: right;\n",
       "    }\n",
       "</style>\n",
       "<table border=\"1\" class=\"dataframe\">\n",
       "  <thead>\n",
       "    <tr style=\"text-align: right;\">\n",
       "      <th></th>\n",
       "      <th>escape_score</th>\n",
       "    </tr>\n",
       "    <tr>\n",
       "      <th>time</th>\n",
       "      <th></th>\n",
       "    </tr>\n",
       "  </thead>\n",
       "  <tbody>\n",
       "    <tr>\n",
       "      <th>0.000000</th>\n",
       "      <td>0.000000</td>\n",
       "    </tr>\n",
       "    <tr>\n",
       "      <th>0.016438</th>\n",
       "      <td>0.000000</td>\n",
       "    </tr>\n",
       "    <tr>\n",
       "      <th>0.046575</th>\n",
       "      <td>0.000000</td>\n",
       "    </tr>\n",
       "    <tr>\n",
       "      <th>0.049315</th>\n",
       "      <td>0.000000</td>\n",
       "    </tr>\n",
       "    <tr>\n",
       "      <th>0.068493</th>\n",
       "      <td>0.009447</td>\n",
       "    </tr>\n",
       "    <tr>\n",
       "      <th>...</th>\n",
       "      <td>...</td>\n",
       "    </tr>\n",
       "    <tr>\n",
       "      <th>3.279452</th>\n",
       "      <td>1.066853</td>\n",
       "    </tr>\n",
       "    <tr>\n",
       "      <th>3.284932</th>\n",
       "      <td>1.056960</td>\n",
       "    </tr>\n",
       "    <tr>\n",
       "      <th>3.290411</th>\n",
       "      <td>1.066853</td>\n",
       "    </tr>\n",
       "    <tr>\n",
       "      <th>3.293151</th>\n",
       "      <td>0.912524</td>\n",
       "    </tr>\n",
       "    <tr>\n",
       "      <th>3.301370</th>\n",
       "      <td>1.066853</td>\n",
       "    </tr>\n",
       "  </tbody>\n",
       "</table>\n",
       "<p>706 rows × 1 columns</p>\n",
       "</div>"
      ],
      "text/plain": [
       "          escape_score\n",
       "time                  \n",
       "0.000000      0.000000\n",
       "0.016438      0.000000\n",
       "0.046575      0.000000\n",
       "0.049315      0.000000\n",
       "0.068493      0.009447\n",
       "...                ...\n",
       "3.279452      1.066853\n",
       "3.284932      1.056960\n",
       "3.290411      1.066853\n",
       "3.293151      0.912524\n",
       "3.301370      1.066853\n",
       "\n",
       "[706 rows x 1 columns]"
      ]
     },
     "execution_count": 13,
     "metadata": {},
     "output_type": "execute_result"
    }
   ],
   "source": [
    "ab_group_df.groupby('time').mean()"
   ]
  },
  {
   "cell_type": "code",
   "execution_count": 36,
   "id": "ca941e0e",
   "metadata": {},
   "outputs": [
    {
     "data": {
      "text/plain": [
       "2778"
      ]
     },
     "execution_count": 36,
     "metadata": {},
     "output_type": "execute_result"
    }
   ],
   "source": [
    "len(data['antibody'].unique())"
   ]
  },
  {
   "cell_type": "markdown",
   "id": "6b3fc436",
   "metadata": {},
   "source": [
    "Here's a way to \"pivot\" the dataframe so that it's the same format we had before with the 5-10 antibodies."
   ]
  },
  {
   "cell_type": "code",
   "execution_count": 16,
   "id": "8d3c75a9",
   "metadata": {},
   "outputs": [
    {
     "data": {
      "text/html": [
       "<div>\n",
       "<style scoped>\n",
       "    .dataframe tbody tr th:only-of-type {\n",
       "        vertical-align: middle;\n",
       "    }\n",
       "\n",
       "    .dataframe tbody tr th {\n",
       "        vertical-align: top;\n",
       "    }\n",
       "\n",
       "    .dataframe thead tr th {\n",
       "        text-align: left;\n",
       "    }\n",
       "\n",
       "    .dataframe thead tr:last-of-type th {\n",
       "        text-align: right;\n",
       "    }\n",
       "</style>\n",
       "<table border=\"1\" class=\"dataframe\">\n",
       "  <thead>\n",
       "    <tr>\n",
       "      <th></th>\n",
       "      <th></th>\n",
       "      <th colspan=\"21\" halign=\"left\">escape_score</th>\n",
       "    </tr>\n",
       "    <tr>\n",
       "      <th></th>\n",
       "      <th>antibody</th>\n",
       "      <th>1-57</th>\n",
       "      <th>2-15</th>\n",
       "      <th>7D6</th>\n",
       "      <th>ADG-2</th>\n",
       "      <th>B38</th>\n",
       "      <th>BD-196</th>\n",
       "      <th>BD-218</th>\n",
       "      <th>BD-236</th>\n",
       "      <th>BD-254</th>\n",
       "      <th>BD-255</th>\n",
       "      <th>...</th>\n",
       "      <th>XGv-402</th>\n",
       "      <th>XGv-404</th>\n",
       "      <th>XGv-405</th>\n",
       "      <th>XGv-409</th>\n",
       "      <th>XGv-412</th>\n",
       "      <th>XGv-416</th>\n",
       "      <th>XGv-418</th>\n",
       "      <th>XGv-420</th>\n",
       "      <th>XGv-421</th>\n",
       "      <th>XGv-422</th>\n",
       "    </tr>\n",
       "    <tr>\n",
       "      <th>strain</th>\n",
       "      <th>date</th>\n",
       "      <th></th>\n",
       "      <th></th>\n",
       "      <th></th>\n",
       "      <th></th>\n",
       "      <th></th>\n",
       "      <th></th>\n",
       "      <th></th>\n",
       "      <th></th>\n",
       "      <th></th>\n",
       "      <th></th>\n",
       "      <th></th>\n",
       "      <th></th>\n",
       "      <th></th>\n",
       "      <th></th>\n",
       "      <th></th>\n",
       "      <th></th>\n",
       "      <th></th>\n",
       "      <th></th>\n",
       "      <th></th>\n",
       "      <th></th>\n",
       "      <th></th>\n",
       "    </tr>\n",
       "  </thead>\n",
       "  <tbody>\n",
       "    <tr>\n",
       "      <th>ARG/210316-1/2021</th>\n",
       "      <th>2021-03-15</th>\n",
       "      <td>0.01807</td>\n",
       "      <td>1.0</td>\n",
       "      <td>1.0</td>\n",
       "      <td>0.1329</td>\n",
       "      <td>0.6096</td>\n",
       "      <td>0.8258</td>\n",
       "      <td>0.0</td>\n",
       "      <td>0.3139</td>\n",
       "      <td>1.0</td>\n",
       "      <td>0.0</td>\n",
       "      <td>...</td>\n",
       "      <td>0.0</td>\n",
       "      <td>0.5236</td>\n",
       "      <td>0.1012</td>\n",
       "      <td>0.04482</td>\n",
       "      <td>0.0</td>\n",
       "      <td>0.04297</td>\n",
       "      <td>0.0</td>\n",
       "      <td>0.0</td>\n",
       "      <td>0.0</td>\n",
       "      <td>0.0493</td>\n",
       "    </tr>\n",
       "    <tr>\n",
       "      <th>ARG/Cordoba-13221/2020</th>\n",
       "      <th>2020-09-19</th>\n",
       "      <td>0.00000</td>\n",
       "      <td>0.0</td>\n",
       "      <td>0.0</td>\n",
       "      <td>0.0000</td>\n",
       "      <td>0.0000</td>\n",
       "      <td>0.0000</td>\n",
       "      <td>0.0</td>\n",
       "      <td>0.0000</td>\n",
       "      <td>0.0</td>\n",
       "      <td>0.0</td>\n",
       "      <td>...</td>\n",
       "      <td>0.0</td>\n",
       "      <td>0.0000</td>\n",
       "      <td>0.0000</td>\n",
       "      <td>0.00000</td>\n",
       "      <td>0.0</td>\n",
       "      <td>0.00000</td>\n",
       "      <td>0.0</td>\n",
       "      <td>0.0</td>\n",
       "      <td>0.0</td>\n",
       "      <td>0.0000</td>\n",
       "    </tr>\n",
       "    <tr>\n",
       "      <th>ARG/Cordoba-189-251/2020</th>\n",
       "      <th>2020-05-16</th>\n",
       "      <td>0.00000</td>\n",
       "      <td>0.0</td>\n",
       "      <td>0.0</td>\n",
       "      <td>0.0000</td>\n",
       "      <td>0.0000</td>\n",
       "      <td>0.0000</td>\n",
       "      <td>0.0</td>\n",
       "      <td>0.0000</td>\n",
       "      <td>0.0</td>\n",
       "      <td>0.0</td>\n",
       "      <td>...</td>\n",
       "      <td>0.0</td>\n",
       "      <td>0.0000</td>\n",
       "      <td>0.0000</td>\n",
       "      <td>0.00000</td>\n",
       "      <td>0.0</td>\n",
       "      <td>0.00000</td>\n",
       "      <td>0.0</td>\n",
       "      <td>0.0</td>\n",
       "      <td>0.0</td>\n",
       "      <td>0.0000</td>\n",
       "    </tr>\n",
       "    <tr>\n",
       "      <th>ARG/Cordoba-2635-202/2020</th>\n",
       "      <th>2020-06-04</th>\n",
       "      <td>0.00000</td>\n",
       "      <td>0.0</td>\n",
       "      <td>0.0</td>\n",
       "      <td>0.0000</td>\n",
       "      <td>0.0000</td>\n",
       "      <td>0.0000</td>\n",
       "      <td>0.0</td>\n",
       "      <td>0.0000</td>\n",
       "      <td>0.0</td>\n",
       "      <td>0.0</td>\n",
       "      <td>...</td>\n",
       "      <td>0.0</td>\n",
       "      <td>0.0000</td>\n",
       "      <td>0.0000</td>\n",
       "      <td>0.00000</td>\n",
       "      <td>0.0</td>\n",
       "      <td>0.00000</td>\n",
       "      <td>0.0</td>\n",
       "      <td>0.0</td>\n",
       "      <td>0.0</td>\n",
       "      <td>0.0000</td>\n",
       "    </tr>\n",
       "    <tr>\n",
       "      <th>ARM/UW-ARM49/2020</th>\n",
       "      <th>2020-09-09</th>\n",
       "      <td>0.00000</td>\n",
       "      <td>0.0</td>\n",
       "      <td>0.0</td>\n",
       "      <td>0.0000</td>\n",
       "      <td>0.0000</td>\n",
       "      <td>0.0000</td>\n",
       "      <td>0.0</td>\n",
       "      <td>0.0000</td>\n",
       "      <td>0.0</td>\n",
       "      <td>0.0</td>\n",
       "      <td>...</td>\n",
       "      <td>0.0</td>\n",
       "      <td>0.0000</td>\n",
       "      <td>0.0000</td>\n",
       "      <td>0.00000</td>\n",
       "      <td>0.0</td>\n",
       "      <td>0.00000</td>\n",
       "      <td>0.0</td>\n",
       "      <td>0.0</td>\n",
       "      <td>0.0</td>\n",
       "      <td>0.0000</td>\n",
       "    </tr>\n",
       "  </tbody>\n",
       "</table>\n",
       "<p>5 rows × 2778 columns</p>\n",
       "</div>"
      ],
      "text/plain": [
       "                                     escape_score                            \\\n",
       "antibody                                     1-57 2-15  7D6   ADG-2     B38   \n",
       "strain                    date                                                \n",
       "ARG/210316-1/2021         2021-03-15      0.01807  1.0  1.0  0.1329  0.6096   \n",
       "ARG/Cordoba-13221/2020    2020-09-19      0.00000  0.0  0.0  0.0000  0.0000   \n",
       "ARG/Cordoba-189-251/2020  2020-05-16      0.00000  0.0  0.0  0.0000  0.0000   \n",
       "ARG/Cordoba-2635-202/2020 2020-06-04      0.00000  0.0  0.0  0.0000  0.0000   \n",
       "ARM/UW-ARM49/2020         2020-09-09      0.00000  0.0  0.0  0.0000  0.0000   \n",
       "\n",
       "                                                                           \\\n",
       "antibody                              BD-196 BD-218  BD-236 BD-254 BD-255   \n",
       "strain                    date                                              \n",
       "ARG/210316-1/2021         2021-03-15  0.8258    0.0  0.3139    1.0    0.0   \n",
       "ARG/Cordoba-13221/2020    2020-09-19  0.0000    0.0  0.0000    0.0    0.0   \n",
       "ARG/Cordoba-189-251/2020  2020-05-16  0.0000    0.0  0.0000    0.0    0.0   \n",
       "ARG/Cordoba-2635-202/2020 2020-06-04  0.0000    0.0  0.0000    0.0    0.0   \n",
       "ARM/UW-ARM49/2020         2020-09-09  0.0000    0.0  0.0000    0.0    0.0   \n",
       "\n",
       "                                      ...                                   \\\n",
       "antibody                              ... XGv-402 XGv-404 XGv-405  XGv-409   \n",
       "strain                    date        ...                                    \n",
       "ARG/210316-1/2021         2021-03-15  ...     0.0  0.5236  0.1012  0.04482   \n",
       "ARG/Cordoba-13221/2020    2020-09-19  ...     0.0  0.0000  0.0000  0.00000   \n",
       "ARG/Cordoba-189-251/2020  2020-05-16  ...     0.0  0.0000  0.0000  0.00000   \n",
       "ARG/Cordoba-2635-202/2020 2020-06-04  ...     0.0  0.0000  0.0000  0.00000   \n",
       "ARM/UW-ARM49/2020         2020-09-09  ...     0.0  0.0000  0.0000  0.00000   \n",
       "\n",
       "                                                                               \\\n",
       "antibody                             XGv-412  XGv-416 XGv-418 XGv-420 XGv-421   \n",
       "strain                    date                                                  \n",
       "ARG/210316-1/2021         2021-03-15     0.0  0.04297     0.0     0.0     0.0   \n",
       "ARG/Cordoba-13221/2020    2020-09-19     0.0  0.00000     0.0     0.0     0.0   \n",
       "ARG/Cordoba-189-251/2020  2020-05-16     0.0  0.00000     0.0     0.0     0.0   \n",
       "ARG/Cordoba-2635-202/2020 2020-06-04     0.0  0.00000     0.0     0.0     0.0   \n",
       "ARM/UW-ARM49/2020         2020-09-09     0.0  0.00000     0.0     0.0     0.0   \n",
       "\n",
       "                                              \n",
       "antibody                             XGv-422  \n",
       "strain                    date                \n",
       "ARG/210316-1/2021         2021-03-15  0.0493  \n",
       "ARG/Cordoba-13221/2020    2020-09-19  0.0000  \n",
       "ARG/Cordoba-189-251/2020  2020-05-16  0.0000  \n",
       "ARG/Cordoba-2635-202/2020 2020-06-04  0.0000  \n",
       "ARM/UW-ARM49/2020         2020-09-09  0.0000  \n",
       "\n",
       "[5 rows x 2778 columns]"
      ]
     },
     "execution_count": 16,
     "metadata": {},
     "output_type": "execute_result"
    }
   ],
   "source": [
    "data = escape_df.pivot_table(\n",
    "    index=['strain', 'date'],\n",
    "    columns=['antibody'],\n",
    "    values=['escape_score']\n",
    ")\n",
    "data.head()"
   ]
  },
  {
   "cell_type": "markdown",
   "id": "b54702e6",
   "metadata": {},
   "source": [
    "In this dataframe, each row is a virus, and each column gives some information for that virus\n",
    "* `strain`: the name of the virus\n",
    "* `aa_substitutions`: gives the mutation(s) in the virus\n",
    "* `escape_score`: the amount that a virus has escaped a given antibody. this score starts at zero (no escape) and can go up to 1.0, or even larger sometimes.\n",
    "* `antibody`: this gives the name of the antibody associated with a given escape score.\n",
    "* `ab_group`: the group a given antibody is in. Antibodies in the same group target a similar region of the spike protein.\n",
    "* `date`: the date that a virus was isolated.\n",
    "* `time`: the same as date, but it is the number of years that have elapsed since the beginning of the pandemic."
   ]
  },
  {
   "cell_type": "markdown",
   "id": "8fe363f6",
   "metadata": {},
   "source": [
    "## Get a feel for the data"
   ]
  },
  {
   "cell_type": "markdown",
   "id": "9d9ae740",
   "metadata": {},
   "source": [
    "How long is the dataframe?"
   ]
  },
  {
   "cell_type": "code",
   "execution_count": 8,
   "id": "8d6246f6",
   "metadata": {},
   "outputs": [
    {
     "data": {
      "text/plain": [
       "8283996"
      ]
     },
     "execution_count": 8,
     "metadata": {},
     "output_type": "execute_result"
    }
   ],
   "source": [
    "len(escape_df)"
   ]
  },
  {
   "cell_type": "markdown",
   "id": "53d4fc3a",
   "metadata": {},
   "source": [
    "How many antibodies are in the dataset?"
   ]
  },
  {
   "cell_type": "code",
   "execution_count": 9,
   "id": "ef6ca9fd",
   "metadata": {},
   "outputs": [
    {
     "data": {
      "text/plain": [
       "2778"
      ]
     },
     "execution_count": 9,
     "metadata": {},
     "output_type": "execute_result"
    }
   ],
   "source": [
    "len(escape_df['antibody'].unique())"
   ]
  },
  {
   "cell_type": "markdown",
   "id": "ac0a13ff",
   "metadata": {},
   "source": [
    "How many viruses are in the dataset?"
   ]
  },
  {
   "cell_type": "code",
   "execution_count": 10,
   "id": "7a3a4801",
   "metadata": {},
   "outputs": [
    {
     "data": {
      "text/plain": [
       "2982"
      ]
     },
     "execution_count": 10,
     "metadata": {},
     "output_type": "execute_result"
    }
   ],
   "source": [
    "len(escape_df['strain'].unique())"
   ]
  },
  {
   "cell_type": "code",
   "execution_count": 11,
   "id": "66aef20b",
   "metadata": {},
   "outputs": [
    {
     "data": {
      "text/plain": [
       "8283996"
      ]
     },
     "execution_count": 11,
     "metadata": {},
     "output_type": "execute_result"
    }
   ],
   "source": [
    "2778*2982"
   ]
  },
  {
   "cell_type": "markdown",
   "id": "2da7d5c6",
   "metadata": {},
   "source": [
    "How many different antibody groups are there?"
   ]
  },
  {
   "cell_type": "code",
   "execution_count": 13,
   "id": "23118153",
   "metadata": {},
   "outputs": [
    {
     "data": {
      "text/plain": [
       "['A', 'B', 'C', 'D1', 'D2', 'E1', 'E2.1', 'E2.2', 'E3', 'F1', 'F2', 'F3']"
      ]
     },
     "execution_count": 13,
     "metadata": {},
     "output_type": "execute_result"
    }
   ],
   "source": [
    "sorted(escape_df['ab_group'].unique())"
   ]
  },
  {
   "cell_type": "markdown",
   "id": "9bdd9c13",
   "metadata": {},
   "source": [
    "## Analyze escape\n",
    "\n",
    "* How many antibodies have been escaped? To answer this, we can plot the average escape score of all viruses from the past 6 months\n",
    "* How has average escape changed over time? To answer this, we can plot average escape over time. This is a lot of curves to plot. We've come up with a few ideas for making things simpler\n",
    "    * making ~30 plots each with 100 curves\n",
    "    * plotting data separately for different groups\n",
    "    * averaging escape across all antibodies in a given group\n",
    "* Can we group antibodies by their escape patterns?"
   ]
  },
  {
   "cell_type": "code",
   "execution_count": null,
   "id": "6c2d6a35",
   "metadata": {},
   "outputs": [],
   "source": []
  },
  {
   "cell_type": "code",
   "execution_count": null,
   "id": "7a03e16d",
   "metadata": {},
   "outputs": [],
   "source": []
  }
 ],
 "metadata": {
  "kernelspec": {
   "display_name": "Python 3 (ipykernel)",
   "language": "python",
   "name": "python3"
  },
  "language_info": {
   "codemirror_mode": {
    "name": "ipython",
    "version": 3
   },
   "file_extension": ".py",
   "mimetype": "text/x-python",
   "name": "python",
   "nbconvert_exporter": "python",
   "pygments_lexer": "ipython3",
   "version": "3.9.16"
  }
 },
 "nbformat": 4,
 "nbformat_minor": 5
}
